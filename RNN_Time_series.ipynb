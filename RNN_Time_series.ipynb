{
  "nbformat": 4,
  "nbformat_minor": 0,
  "metadata": {
    "colab": {
      "provenance": [],
      "include_colab_link": true
    },
    "kernelspec": {
      "name": "python3",
      "display_name": "Python 3"
    },
    "language_info": {
      "name": "python"
    },
    "accelerator": "GPU",
    "gpuClass": "standard"
  },
  "cells": [
    {
      "cell_type": "markdown",
      "metadata": {
        "id": "view-in-github",
        "colab_type": "text"
      },
      "source": [
        "<a href=\"https://colab.research.google.com/github/karthebans/Research/blob/main/RNN_Time_series.ipynb\" target=\"_parent\"><img src=\"https://colab.research.google.com/assets/colab-badge.svg\" alt=\"Open In Colab\"/></a>"
      ]
    },
    {
      "cell_type": "code",
      "source": [
        "import numpy as np"
      ],
      "metadata": {
        "id": "mrTo9FGVmgus"
      },
      "execution_count": 1,
      "outputs": []
    },
    {
      "cell_type": "code",
      "execution_count": null,
      "metadata": {
        "id": "VdWkU1Lklya8"
      },
      "outputs": [],
      "source": [
        "def generate_time_series(batch_size,n_steps):\n",
        "    freq1, freq2, offset1, offset2, = np.random.rand(4,batch_size,1)\n",
        "    time = np.linspace(0,1,n_steps)\n",
        "    series = 0.5 * np.sin((time-offset1) * (freq1 * 10 + 10))\n",
        "    series +=0.2 * np.sin((time - offset2) * (freq2 *20 + 20))\n",
        "    series += 0.1 * (np.random.rand(batch_size, n_steps) - 0.5)\n",
        "    return series[..., np.newaxis].astype(np.float32)"
      ]
    },
    {
      "cell_type": "code",
      "source": [
        "n_steps = 50\n",
        "series = generate_time_series(10000, n_steps= +1)\n",
        "series"
      ],
      "metadata": {
        "colab": {
          "base_uri": "https://localhost:8080/"
        },
        "id": "ikvYEzwLnwDs",
        "outputId": "f5c9b830-694c-4f01-b327-d6399eb355ed"
      },
      "execution_count": null,
      "outputs": [
        {
          "output_type": "execute_result",
          "data": {
            "text/plain": [
              "array([[[-0.10807878]],\n",
              "\n",
              "       [[-0.36624837]],\n",
              "\n",
              "       [[ 0.069507  ]],\n",
              "\n",
              "       ...,\n",
              "\n",
              "       [[ 0.2951545 ]],\n",
              "\n",
              "       [[-0.24368274]],\n",
              "\n",
              "       [[ 0.6137489 ]]], dtype=float32)"
            ]
          },
          "metadata": {},
          "execution_count": 12
        }
      ]
    },
    {
      "cell_type": "code",
      "source": [
        "series[0][0]"
      ],
      "metadata": {
        "colab": {
          "base_uri": "https://localhost:8080/"
        },
        "id": "DPlppAFVpbWF",
        "outputId": "e804a2e5-76a5-4386-c6b1-96ce25d57d94"
      },
      "execution_count": null,
      "outputs": [
        {
          "output_type": "execute_result",
          "data": {
            "text/plain": [
              "array([-0.10807878], dtype=float32)"
            ]
          },
          "metadata": {},
          "execution_count": 14
        }
      ]
    },
    {
      "cell_type": "code",
      "source": [
        "X_train, y_train = series[:7000, :n_steps], series[:7000, -1]"
      ],
      "metadata": {
        "id": "EfNTraRlpbZE"
      },
      "execution_count": null,
      "outputs": []
    },
    {
      "cell_type": "code",
      "source": [
        "X_train"
      ],
      "metadata": {
        "colab": {
          "base_uri": "https://localhost:8080/"
        },
        "id": "IUIM_flBpbbb",
        "outputId": "36288a7e-422e-44e2-8170-d89c214d5e02"
      },
      "execution_count": null,
      "outputs": [
        {
          "output_type": "execute_result",
          "data": {
            "text/plain": [
              "array([[[-0.10807878]],\n",
              "\n",
              "       [[-0.36624837]],\n",
              "\n",
              "       [[ 0.069507  ]],\n",
              "\n",
              "       ...,\n",
              "\n",
              "       [[-0.5117974 ]],\n",
              "\n",
              "       [[-0.3228529 ]],\n",
              "\n",
              "       [[ 0.19405904]]], dtype=float32)"
            ]
          },
          "metadata": {},
          "execution_count": 16
        }
      ]
    },
    {
      "cell_type": "code",
      "source": [
        "y_train"
      ],
      "metadata": {
        "colab": {
          "base_uri": "https://localhost:8080/"
        },
        "id": "-TGp222Kpbet",
        "outputId": "981e44c5-e243-422b-ec46-e76e06fb8859"
      },
      "execution_count": null,
      "outputs": [
        {
          "output_type": "execute_result",
          "data": {
            "text/plain": [
              "array([[-0.10807878],\n",
              "       [-0.36624837],\n",
              "       [ 0.069507  ],\n",
              "       ...,\n",
              "       [-0.5117974 ],\n",
              "       [-0.3228529 ],\n",
              "       [ 0.19405904]], dtype=float32)"
            ]
          },
          "metadata": {},
          "execution_count": 17
        }
      ]
    },
    {
      "cell_type": "code",
      "source": [
        "x_valid, y_valid = series[7000:9000, :n_steps], series[7000:9000,-1]"
      ],
      "metadata": {
        "id": "2lQ0ieVbpbh4"
      },
      "execution_count": null,
      "outputs": []
    },
    {
      "cell_type": "code",
      "source": [
        "x_test, y_test = series[9000: , :n_steps], series[9000:,-1]"
      ],
      "metadata": {
        "id": "3ub8oknlpbky"
      },
      "execution_count": null,
      "outputs": []
    },
    {
      "cell_type": "code",
      "source": [
        "x_test"
      ],
      "metadata": {
        "id": "tsmG6bgJsJOS"
      },
      "execution_count": null,
      "outputs": []
    },
    {
      "cell_type": "code",
      "source": [
        "y_test"
      ],
      "metadata": {
        "id": "-jgnC_VIsK7k"
      },
      "execution_count": null,
      "outputs": []
    },
    {
      "cell_type": "code",
      "source": [
        "import keras"
      ],
      "metadata": {
        "id": "F-CAnHhwsM-a"
      },
      "execution_count": null,
      "outputs": []
    },
    {
      "cell_type": "code",
      "source": [
        "y_pred = x_valid[:,-1]"
      ],
      "metadata": {
        "id": "6HIgHK2asQ1H"
      },
      "execution_count": null,
      "outputs": []
    },
    {
      "cell_type": "code",
      "source": [
        "y_pred"
      ],
      "metadata": {
        "colab": {
          "base_uri": "https://localhost:8080/"
        },
        "id": "WrD3NTwGsQ4x",
        "outputId": "8b8e832c-fd5d-41fa-b565-34086e668b03"
      },
      "execution_count": null,
      "outputs": [
        {
          "output_type": "execute_result",
          "data": {
            "text/plain": [
              "array([[-0.64195836],\n",
              "       [-0.39677322],\n",
              "       [-0.22487772],\n",
              "       ...,\n",
              "       [-0.09804105],\n",
              "       [-0.1897724 ],\n",
              "       [ 0.6668602 ]], dtype=float32)"
            ]
          },
          "metadata": {},
          "execution_count": 25
        }
      ]
    },
    {
      "cell_type": "code",
      "source": [
        "np.mean(keras.losses.mean_squared_error(y_valid,y_pred))"
      ],
      "metadata": {
        "colab": {
          "base_uri": "https://localhost:8080/"
        },
        "id": "5PAzEntrsQ7n",
        "outputId": "70b3520d-0761-4892-d629-9844d0063b64"
      },
      "execution_count": null,
      "outputs": [
        {
          "output_type": "execute_result",
          "data": {
            "text/plain": [
              "0.0"
            ]
          },
          "metadata": {},
          "execution_count": 26
        }
      ]
    },
    {
      "cell_type": "code",
      "source": [
        "model = keras.models.Sequential([\n",
        "    keras.layers.Flatten(input_shape = [50,1]),\n",
        "    keras.layers.Dense(1)\n",
        "])"
      ],
      "metadata": {
        "id": "EAlsI255sQ-S"
      },
      "execution_count": null,
      "outputs": []
    },
    {
      "cell_type": "code",
      "source": [],
      "metadata": {
        "id": "OaVfIiD2sRAk"
      },
      "execution_count": null,
      "outputs": []
    },
    {
      "cell_type": "code",
      "source": [],
      "metadata": {
        "id": "nnsMRSULt0jR"
      },
      "execution_count": null,
      "outputs": []
    },
    {
      "cell_type": "code",
      "source": [],
      "metadata": {
        "id": "J67LIpS6t0md"
      },
      "execution_count": null,
      "outputs": []
    },
    {
      "cell_type": "code",
      "source": [],
      "metadata": {
        "id": "JBHNJHRSt0o0"
      },
      "execution_count": null,
      "outputs": []
    },
    {
      "cell_type": "code",
      "source": [],
      "metadata": {
        "id": "5JRMeKK_t0rZ"
      },
      "execution_count": null,
      "outputs": []
    },
    {
      "cell_type": "code",
      "source": [],
      "metadata": {
        "id": "PbeWx52Pt0uQ"
      },
      "execution_count": null,
      "outputs": []
    },
    {
      "cell_type": "code",
      "source": [],
      "metadata": {
        "id": "yIcxLKrVt0wp"
      },
      "execution_count": null,
      "outputs": []
    },
    {
      "cell_type": "code",
      "source": [],
      "metadata": {
        "id": "PW8ubNBtt0zN"
      },
      "execution_count": null,
      "outputs": []
    },
    {
      "cell_type": "code",
      "source": [],
      "metadata": {
        "id": "gIE8p0f2sRDd"
      },
      "execution_count": null,
      "outputs": []
    }
  ]
}