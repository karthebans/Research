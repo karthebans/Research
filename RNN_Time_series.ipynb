{
  "nbformat": 4,
  "nbformat_minor": 0,
  "metadata": {
    "colab": {
      "provenance": [],
      "include_colab_link": true
    },
    "kernelspec": {
      "name": "python3",
      "display_name": "Python 3"
    },
    "language_info": {
      "name": "python"
    },
    "accelerator": "GPU",
    "gpuClass": "standard"
  },
  "cells": [
    {
      "cell_type": "markdown",
      "metadata": {
        "id": "view-in-github",
        "colab_type": "text"
      },
      "source": [
        "<a href=\"https://colab.research.google.com/github/karthebans/Research/blob/main/RNN_Time_series.ipynb\" target=\"_parent\"><img src=\"https://colab.research.google.com/assets/colab-badge.svg\" alt=\"Open In Colab\"/></a>"
      ]
    },
    {
      "cell_type": "code",
      "source": [
        "import numpy as np"
      ],
      "metadata": {
        "id": "mrTo9FGVmgus"
      },
      "execution_count": 35,
      "outputs": []
    },
    {
      "cell_type": "code",
      "execution_count": 34,
      "metadata": {
        "id": "VdWkU1Lklya8"
      },
      "outputs": [],
      "source": [
        "def generate_time_series(batch_size,n_steps):\n",
        "    freq1, freq2, offset1, offset2, = np.random.rand(4,batch_size,1)\n",
        "    time = np.linspace(0,1,n_steps)\n",
        "    series = 0.5 * np.sin((time-offset1) * (freq1 * 10 + 10))\n",
        "    series +=0.2 * np.sin((time - offset2) * (freq2 *20 + 20))\n",
        "    series += 0.1 * (np.random.rand(batch_size, n_steps) - 0.5)\n",
        "    return series[..., np.newaxis].astype(np.float32)"
      ]
    },
    {
      "cell_type": "code",
      "source": [
        "n_steps = 50\n",
        "series = generate_time_series(10000, n_steps +1)\n",
        "series"
      ],
      "metadata": {
        "colab": {
          "base_uri": "https://localhost:8080/"
        },
        "id": "ikvYEzwLnwDs",
        "outputId": "1a076001-ce5d-4cc2-bb50-73ce1ebf8101"
      },
      "execution_count": 17,
      "outputs": [
        {
          "output_type": "execute_result",
          "data": {
            "text/plain": [
              "array([[[-0.54533035],\n",
              "        [-0.3996726 ],\n",
              "        [-0.22606987],\n",
              "        ...,\n",
              "        [-0.19724712],\n",
              "        [-0.40488192],\n",
              "        [-0.53282756]],\n",
              "\n",
              "       [[ 0.3056186 ],\n",
              "        [ 0.4003793 ],\n",
              "        [ 0.510774  ],\n",
              "        ...,\n",
              "        [ 0.18942614],\n",
              "        [ 0.1407173 ],\n",
              "        [ 0.0734825 ]],\n",
              "\n",
              "       [[ 0.11527731],\n",
              "        [-0.15259919],\n",
              "        [-0.3420273 ],\n",
              "        ...,\n",
              "        [ 0.09055861],\n",
              "        [-0.02715979],\n",
              "        [-0.19743623]],\n",
              "\n",
              "       ...,\n",
              "\n",
              "       [[ 0.42142615],\n",
              "        [ 0.24433033],\n",
              "        [ 0.12374406],\n",
              "        ...,\n",
              "        [ 0.28446057],\n",
              "        [ 0.34511817],\n",
              "        [ 0.28502357]],\n",
              "\n",
              "       [[-0.35891268],\n",
              "        [-0.12081373],\n",
              "        [ 0.11480688],\n",
              "        ...,\n",
              "        [-0.63869727],\n",
              "        [-0.54450625],\n",
              "        [-0.26703048]],\n",
              "\n",
              "       [[ 0.6441406 ],\n",
              "        [ 0.5917992 ],\n",
              "        [ 0.4523631 ],\n",
              "        ...,\n",
              "        [-0.3469636 ],\n",
              "        [-0.24242242],\n",
              "        [-0.31561497]]], dtype=float32)"
            ]
          },
          "metadata": {},
          "execution_count": 17
        }
      ]
    },
    {
      "cell_type": "code",
      "source": [
        "series[0][0]"
      ],
      "metadata": {
        "colab": {
          "base_uri": "https://localhost:8080/"
        },
        "id": "DPlppAFVpbWF",
        "outputId": "7881c05b-3ee3-4786-95ff-7fe3added88b"
      },
      "execution_count": 18,
      "outputs": [
        {
          "output_type": "execute_result",
          "data": {
            "text/plain": [
              "array([-0.54533035], dtype=float32)"
            ]
          },
          "metadata": {},
          "execution_count": 18
        }
      ]
    },
    {
      "cell_type": "code",
      "source": [
        "X_train, y_train = series[:7000, :n_steps], series[:7000, -1]"
      ],
      "metadata": {
        "id": "EfNTraRlpbZE"
      },
      "execution_count": 19,
      "outputs": []
    },
    {
      "cell_type": "code",
      "source": [
        "X_train"
      ],
      "metadata": {
        "id": "IUIM_flBpbbb"
      },
      "execution_count": null,
      "outputs": []
    },
    {
      "cell_type": "code",
      "source": [
        "y_train"
      ],
      "metadata": {
        "colab": {
          "base_uri": "https://localhost:8080/"
        },
        "id": "-TGp222Kpbet",
        "outputId": "de98f91e-64ab-40c4-cc3d-ca5c9c900628"
      },
      "execution_count": 21,
      "outputs": [
        {
          "output_type": "execute_result",
          "data": {
            "text/plain": [
              "array([[-0.53282756],\n",
              "       [ 0.0734825 ],\n",
              "       [-0.19743623],\n",
              "       ...,\n",
              "       [-0.60098857],\n",
              "       [-0.09373744],\n",
              "       [ 0.01936147]], dtype=float32)"
            ]
          },
          "metadata": {},
          "execution_count": 21
        }
      ]
    },
    {
      "cell_type": "code",
      "source": [
        "x_valid, y_valid = series[7000:9000, :n_steps], series[7000:9000,-1]"
      ],
      "metadata": {
        "id": "2lQ0ieVbpbh4"
      },
      "execution_count": 22,
      "outputs": []
    },
    {
      "cell_type": "code",
      "source": [
        "x_test, y_test = series[9000: , :n_steps], series[9000:,-1]"
      ],
      "metadata": {
        "id": "3ub8oknlpbky"
      },
      "execution_count": 9,
      "outputs": []
    },
    {
      "cell_type": "code",
      "source": [
        "x_test"
      ],
      "metadata": {
        "id": "tsmG6bgJsJOS"
      },
      "execution_count": null,
      "outputs": []
    },
    {
      "cell_type": "code",
      "source": [
        "y_test"
      ],
      "metadata": {
        "id": "-jgnC_VIsK7k"
      },
      "execution_count": null,
      "outputs": []
    },
    {
      "cell_type": "code",
      "source": [
        "import keras"
      ],
      "metadata": {
        "id": "F-CAnHhwsM-a"
      },
      "execution_count": 23,
      "outputs": []
    },
    {
      "cell_type": "code",
      "source": [
        "y_pred = x_valid[:,-1]"
      ],
      "metadata": {
        "id": "6HIgHK2asQ1H"
      },
      "execution_count": 24,
      "outputs": []
    },
    {
      "cell_type": "code",
      "source": [
        "y_pred"
      ],
      "metadata": {
        "colab": {
          "base_uri": "https://localhost:8080/"
        },
        "id": "WrD3NTwGsQ4x",
        "outputId": "e20c5422-05f6-4976-a56a-fad7d25938b5"
      },
      "execution_count": 25,
      "outputs": [
        {
          "output_type": "execute_result",
          "data": {
            "text/plain": [
              "array([[-0.28823906],\n",
              "       [ 0.2669238 ],\n",
              "       [-0.26998785],\n",
              "       ...,\n",
              "       [ 0.08451651],\n",
              "       [ 0.04933338],\n",
              "       [-0.31202528]], dtype=float32)"
            ]
          },
          "metadata": {},
          "execution_count": 25
        }
      ]
    },
    {
      "cell_type": "code",
      "source": [
        "np.mean(keras.losses.mean_squared_error(y_valid,y_pred))"
      ],
      "metadata": {
        "colab": {
          "base_uri": "https://localhost:8080/"
        },
        "id": "5PAzEntrsQ7n",
        "outputId": "ebeb770d-d9df-4af5-9ddf-c924f16a7291"
      },
      "execution_count": 26,
      "outputs": [
        {
          "output_type": "execute_result",
          "data": {
            "text/plain": [
              "0.020941718"
            ]
          },
          "metadata": {},
          "execution_count": 26
        }
      ]
    },
    {
      "cell_type": "code",
      "source": [
        "model = keras.models.Sequential([\n",
        "    keras.layers.Flatten(input_shape = [50,1]),\n",
        "    keras.layers.Dense(1)\n",
        "])"
      ],
      "metadata": {
        "id": "EAlsI255sQ-S"
      },
      "execution_count": 27,
      "outputs": []
    },
    {
      "cell_type": "code",
      "source": [
        "import pandas as pd"
      ],
      "metadata": {
        "id": "OaVfIiD2sRAk"
      },
      "execution_count": 1,
      "outputs": []
    },
    {
      "cell_type": "code",
      "source": [
        "df = pd.read_csv('https://raw.githubusercontent.com/ejgao/Time-Series-Datasets/master/Electric_Production.csv')"
      ],
      "metadata": {
        "id": "nnsMRSULt0jR"
      },
      "execution_count": 3,
      "outputs": []
    },
    {
      "cell_type": "code",
      "source": [
        "df.columns = ['date','value']"
      ],
      "metadata": {
        "id": "J67LIpS6t0md"
      },
      "execution_count": 4,
      "outputs": []
    },
    {
      "cell_type": "code",
      "source": [
        "df.head()"
      ],
      "metadata": {
        "id": "JBHNJHRSt0o0",
        "colab": {
          "base_uri": "https://localhost:8080/",
          "height": 206
        },
        "outputId": "478e5104-6569-46ec-a9d6-d63a998a428f"
      },
      "execution_count": 5,
      "outputs": [
        {
          "output_type": "execute_result",
          "data": {
            "text/plain": [
              "       date    value\n",
              "0  1/1/1985  72.5052\n",
              "1  2/1/1985  70.6720\n",
              "2  3/1/1985  62.4502\n",
              "3  4/1/1985  57.4714\n",
              "4  5/1/1985  55.3151"
            ],
            "text/html": [
              "\n",
              "  <div id=\"df-16c513da-368f-4d20-a1b4-f37d644a8477\">\n",
              "    <div class=\"colab-df-container\">\n",
              "      <div>\n",
              "<style scoped>\n",
              "    .dataframe tbody tr th:only-of-type {\n",
              "        vertical-align: middle;\n",
              "    }\n",
              "\n",
              "    .dataframe tbody tr th {\n",
              "        vertical-align: top;\n",
              "    }\n",
              "\n",
              "    .dataframe thead th {\n",
              "        text-align: right;\n",
              "    }\n",
              "</style>\n",
              "<table border=\"1\" class=\"dataframe\">\n",
              "  <thead>\n",
              "    <tr style=\"text-align: right;\">\n",
              "      <th></th>\n",
              "      <th>date</th>\n",
              "      <th>value</th>\n",
              "    </tr>\n",
              "  </thead>\n",
              "  <tbody>\n",
              "    <tr>\n",
              "      <th>0</th>\n",
              "      <td>1/1/1985</td>\n",
              "      <td>72.5052</td>\n",
              "    </tr>\n",
              "    <tr>\n",
              "      <th>1</th>\n",
              "      <td>2/1/1985</td>\n",
              "      <td>70.6720</td>\n",
              "    </tr>\n",
              "    <tr>\n",
              "      <th>2</th>\n",
              "      <td>3/1/1985</td>\n",
              "      <td>62.4502</td>\n",
              "    </tr>\n",
              "    <tr>\n",
              "      <th>3</th>\n",
              "      <td>4/1/1985</td>\n",
              "      <td>57.4714</td>\n",
              "    </tr>\n",
              "    <tr>\n",
              "      <th>4</th>\n",
              "      <td>5/1/1985</td>\n",
              "      <td>55.3151</td>\n",
              "    </tr>\n",
              "  </tbody>\n",
              "</table>\n",
              "</div>\n",
              "      <button class=\"colab-df-convert\" onclick=\"convertToInteractive('df-16c513da-368f-4d20-a1b4-f37d644a8477')\"\n",
              "              title=\"Convert this dataframe to an interactive table.\"\n",
              "              style=\"display:none;\">\n",
              "        \n",
              "  <svg xmlns=\"http://www.w3.org/2000/svg\" height=\"24px\"viewBox=\"0 0 24 24\"\n",
              "       width=\"24px\">\n",
              "    <path d=\"M0 0h24v24H0V0z\" fill=\"none\"/>\n",
              "    <path d=\"M18.56 5.44l.94 2.06.94-2.06 2.06-.94-2.06-.94-.94-2.06-.94 2.06-2.06.94zm-11 1L8.5 8.5l.94-2.06 2.06-.94-2.06-.94L8.5 2.5l-.94 2.06-2.06.94zm10 10l.94 2.06.94-2.06 2.06-.94-2.06-.94-.94-2.06-.94 2.06-2.06.94z\"/><path d=\"M17.41 7.96l-1.37-1.37c-.4-.4-.92-.59-1.43-.59-.52 0-1.04.2-1.43.59L10.3 9.45l-7.72 7.72c-.78.78-.78 2.05 0 2.83L4 21.41c.39.39.9.59 1.41.59.51 0 1.02-.2 1.41-.59l7.78-7.78 2.81-2.81c.8-.78.8-2.07 0-2.86zM5.41 20L4 18.59l7.72-7.72 1.47 1.35L5.41 20z\"/>\n",
              "  </svg>\n",
              "      </button>\n",
              "      \n",
              "  <style>\n",
              "    .colab-df-container {\n",
              "      display:flex;\n",
              "      flex-wrap:wrap;\n",
              "      gap: 12px;\n",
              "    }\n",
              "\n",
              "    .colab-df-convert {\n",
              "      background-color: #E8F0FE;\n",
              "      border: none;\n",
              "      border-radius: 50%;\n",
              "      cursor: pointer;\n",
              "      display: none;\n",
              "      fill: #1967D2;\n",
              "      height: 32px;\n",
              "      padding: 0 0 0 0;\n",
              "      width: 32px;\n",
              "    }\n",
              "\n",
              "    .colab-df-convert:hover {\n",
              "      background-color: #E2EBFA;\n",
              "      box-shadow: 0px 1px 2px rgba(60, 64, 67, 0.3), 0px 1px 3px 1px rgba(60, 64, 67, 0.15);\n",
              "      fill: #174EA6;\n",
              "    }\n",
              "\n",
              "    [theme=dark] .colab-df-convert {\n",
              "      background-color: #3B4455;\n",
              "      fill: #D2E3FC;\n",
              "    }\n",
              "\n",
              "    [theme=dark] .colab-df-convert:hover {\n",
              "      background-color: #434B5C;\n",
              "      box-shadow: 0px 1px 3px 1px rgba(0, 0, 0, 0.15);\n",
              "      filter: drop-shadow(0px 1px 2px rgba(0, 0, 0, 0.3));\n",
              "      fill: #FFFFFF;\n",
              "    }\n",
              "  </style>\n",
              "\n",
              "      <script>\n",
              "        const buttonEl =\n",
              "          document.querySelector('#df-16c513da-368f-4d20-a1b4-f37d644a8477 button.colab-df-convert');\n",
              "        buttonEl.style.display =\n",
              "          google.colab.kernel.accessAllowed ? 'block' : 'none';\n",
              "\n",
              "        async function convertToInteractive(key) {\n",
              "          const element = document.querySelector('#df-16c513da-368f-4d20-a1b4-f37d644a8477');\n",
              "          const dataTable =\n",
              "            await google.colab.kernel.invokeFunction('convertToInteractive',\n",
              "                                                     [key], {});\n",
              "          if (!dataTable) return;\n",
              "\n",
              "          const docLinkHtml = 'Like what you see? Visit the ' +\n",
              "            '<a target=\"_blank\" href=https://colab.research.google.com/notebooks/data_table.ipynb>data table notebook</a>'\n",
              "            + ' to learn more about interactive tables.';\n",
              "          element.innerHTML = '';\n",
              "          dataTable['output_type'] = 'display_data';\n",
              "          await google.colab.output.renderOutput(dataTable, element);\n",
              "          const docLink = document.createElement('div');\n",
              "          docLink.innerHTML = docLinkHtml;\n",
              "          element.appendChild(docLink);\n",
              "        }\n",
              "      </script>\n",
              "    </div>\n",
              "  </div>\n",
              "  "
            ]
          },
          "metadata": {},
          "execution_count": 5
        }
      ]
    },
    {
      "cell_type": "code",
      "source": [
        "y = df.value.values"
      ],
      "metadata": {
        "id": "5JRMeKK_t0rZ"
      },
      "execution_count": 7,
      "outputs": []
    },
    {
      "cell_type": "code",
      "source": [
        "from tensorflow.keras.preprocessing.sequence import TimeseriesGenerator\n",
        "import keras\n",
        "from keras.models import Sequential\n",
        "from keras.layers import SimpleRNN, Dense"
      ],
      "metadata": {
        "id": "4npsOwXxUOjD"
      },
      "execution_count": 15,
      "outputs": []
    },
    {
      "cell_type": "code",
      "source": [
        "# How many record to take into account\n",
        "length = 2\n",
        "\n",
        "batch_size = 1\n",
        "\n",
        "# 1 beacause it's univariate\n",
        "n_features = 1"
      ],
      "metadata": {
        "id": "PbeWx52Pt0uQ"
      },
      "execution_count": 16,
      "outputs": []
    },
    {
      "cell_type": "code",
      "source": [
        "generator = TimeseriesGenerator(y, y, stride=3, length=length, batch_size=batch_size)\n"
      ],
      "metadata": {
        "id": "yIcxLKrVt0wp"
      },
      "execution_count": 17,
      "outputs": []
    },
    {
      "cell_type": "code",
      "source": [
        "model = Sequential()\n",
        "model.add(SimpleRNN(100, activation='relu', input_shape=(length, n_features)))\n",
        "model.add(Dense(100, activation='relu', input_shape=(length, n_features)))\n",
        "model.add(Dense(1))\n",
        "model.compile(optimizer='adam', loss=\"mse\")\n",
        "model.fit(generator, epochs=10)"
      ],
      "metadata": {
        "id": "PW8ubNBtt0zN",
        "colab": {
          "base_uri": "https://localhost:8080/"
        },
        "outputId": "5295450d-8b8e-4b31-9539-ccc29d33cf09"
      },
      "execution_count": 58,
      "outputs": [
        {
          "output_type": "stream",
          "name": "stdout",
          "text": [
            "Epoch 1/10\n",
            "132/132 [==============================] - 1s 4ms/step - loss: 531.1826\n",
            "Epoch 2/10\n",
            "132/132 [==============================] - 1s 4ms/step - loss: 134.7888\n",
            "Epoch 3/10\n",
            "132/132 [==============================] - 1s 4ms/step - loss: 132.4632\n",
            "Epoch 4/10\n",
            "132/132 [==============================] - 1s 4ms/step - loss: 129.5249\n",
            "Epoch 5/10\n",
            "132/132 [==============================] - 1s 4ms/step - loss: 140.6339\n",
            "Epoch 6/10\n",
            "132/132 [==============================] - 1s 4ms/step - loss: 131.7308\n",
            "Epoch 7/10\n",
            "132/132 [==============================] - 1s 4ms/step - loss: 110.1561\n",
            "Epoch 8/10\n",
            "132/132 [==============================] - 1s 4ms/step - loss: 133.9163\n",
            "Epoch 9/10\n",
            "132/132 [==============================] - 1s 4ms/step - loss: 132.3153\n",
            "Epoch 10/10\n",
            "132/132 [==============================] - 1s 4ms/step - loss: 132.1491\n"
          ]
        },
        {
          "output_type": "execute_result",
          "data": {
            "text/plain": [
              "<keras.callbacks.History at 0x7f94b17c4b90>"
            ]
          },
          "metadata": {},
          "execution_count": 58
        }
      ]
    },
    {
      "cell_type": "code",
      "source": [
        "model.save('model.h5')"
      ],
      "metadata": {
        "id": "gIE8p0f2sRDd"
      },
      "execution_count": 59,
      "outputs": []
    },
    {
      "cell_type": "code",
      "source": [
        "pred = model.predict(generator)"
      ],
      "metadata": {
        "id": "HE4fnLSFVLJx"
      },
      "execution_count": 60,
      "outputs": []
    },
    {
      "cell_type": "code",
      "source": [
        "pd.DataFrame(pred).plot()"
      ],
      "metadata": {
        "colab": {
          "base_uri": "https://localhost:8080/",
          "height": 285
        },
        "id": "FikVDUxnWCPY",
        "outputId": "3b395af8-b900-4c37-edf9-31428721cc05"
      },
      "execution_count": 62,
      "outputs": [
        {
          "output_type": "execute_result",
          "data": {
            "text/plain": [
              "<matplotlib.axes._subplots.AxesSubplot at 0x7f94b2b88110>"
            ]
          },
          "metadata": {},
          "execution_count": 62
        },
        {
          "output_type": "display_data",
          "data": {
            "text/plain": [
              "<Figure size 432x288 with 1 Axes>"
            ],
            "image/png": "[encoded data removed]"
          },
          "metadata": {
            "needs_background": "light"
          }
        }
      ]
    },
    {
      "cell_type": "code",
      "source": [
        "df.value.plot()"
      ],
      "metadata": {
        "colab": {
          "base_uri": "https://localhost:8080/",
          "height": 282
        },
        "id": "eB88FNddWbT3",
        "outputId": "5ea2feb3-bf6e-4255-88f9-b0125d4737dc"
      },
      "execution_count": 63,
      "outputs": [
        {
          "output_type": "execute_result",
          "data": {
            "text/plain": [
              "<matplotlib.axes._subplots.AxesSubplot at 0x7f94b2af6b10>"
            ]
          },
          "metadata": {},
          "execution_count": 63
        },
        {
          "output_type": "display_data",
          "data": {
            "text/plain": [
              "<Figure size 432x288 with 1 Axes>"
            ],
            "image/png": "[encoded data removed]"
          },
          "metadata": {
            "needs_background": "light"
          }
        }
      ]
    },
    {
      "cell_type": "code",
      "source": [
        "y_new = y.reshape(1,397,1)\n",
        "x_new = y_new[:, :2]"
      ],
      "metadata": {
        "id": "ot_rSRiIgx6s"
      },
      "execution_count": 73,
      "outputs": []
    },
    {
      "cell_type": "code",
      "source": [
        "x_new"
      ],
      "metadata": {
        "id": "Da52-VKWhRyW",
        "outputId": "2c1ab3bb-2b0a-47c9-d6ee-6fbf9d4e87d7",
        "colab": {
          "base_uri": "https://localhost:8080/"
        }
      },
      "execution_count": 75,
      "outputs": [
        {
          "output_type": "execute_result",
          "data": {
            "text/plain": [
              "array([[[72.5052],\n",
              "        [70.672 ]]])"
            ]
          },
          "metadata": {},
          "execution_count": 75
        }
      ]
    },
    {
      "cell_type": "code",
      "source": [
        "for step_ahead in range(50):\n",
        "    y_pred_one = model.predict(x_new[:, step_ahead:])[:, np.newaxis, :]\n",
        "    x_new = np.concatenate([x_new, y_pred_one], axis=1)\n",
        "\n",
        "y_pred = x[:, 2:]\n",
        "pd.DataFrame(y_pred.reshape(1,-1)[0]).plot()"
      ],
      "metadata": {
        "colab": {
          "base_uri": "https://localhost:8080/",
          "height": 282
        },
        "id": "yjceA0qzWr_Y",
        "outputId": "5fae49e6-c0dd-4aa3-dd49-5c1e01d8b73e"
      },
      "execution_count": 76,
      "outputs": [
        {
          "output_type": "execute_result",
          "data": {
            "text/plain": [
              "<matplotlib.axes._subplots.AxesSubplot at 0x7f94b25ef310>"
            ]
          },
          "metadata": {},
          "execution_count": 76
        },
        {
          "output_type": "display_data",
          "data": {
            "text/plain": [
              "<Figure size 432x288 with 1 Axes>"
            ],
            "image/png": "[encoded data removed]"
          },
          "metadata": {
            "needs_background": "light"
          }
        }
      ]
    },
    {
      "cell_type": "code",
      "source": [
        "y_pred"
      ],
      "metadata": {
        "id": "CE24z589f0bN",
        "outputId": "dbb7da6c-a733-4fe5-c031-9bf7495a0237",
        "colab": {
          "base_uri": "https://localhost:8080/"
        }
      },
      "execution_count": 77,
      "outputs": [
        {
          "output_type": "execute_result",
          "data": {
            "text/plain": [
              "array([[[57.56933212]]])"
            ]
          },
          "metadata": {},
          "execution_count": 77
        }
      ]
    },
    {
      "cell_type": "code",
      "source": [
        "n_steps = 10\n",
        "s = generate_time_series(1, n_steps + 10)"
      ],
      "metadata": {
        "id": "B-NVp62xcRyG"
      },
      "execution_count": 38,
      "outputs": []
    },
    {
      "cell_type": "code",
      "source": [
        "s.shape"
      ],
      "metadata": {
        "colab": {
          "base_uri": "https://localhost:8080/"
        },
        "id": "28ai3EsBc8T3",
        "outputId": "612040e0-b512-4205-8531-49854617e86e"
      },
      "execution_count": 39,
      "outputs": [
        {
          "output_type": "execute_result",
          "data": {
            "text/plain": [
              "(1, 20, 1)"
            ]
          },
          "metadata": {},
          "execution_count": 39
        }
      ]
    },
    {
      "cell_type": "code",
      "source": [
        "y = y.reshape(1,397,1)"
      ],
      "metadata": {
        "id": "9LCp_49teE6F"
      },
      "execution_count": 65,
      "outputs": []
    },
    {
      "cell_type": "code",
      "source": [
        "y.shape"
      ],
      "metadata": {
        "id": "ez8cR8yQeFE1",
        "outputId": "425ce9b7-3e3e-461f-9a95-3dbe470c6827",
        "colab": {
          "base_uri": "https://localhost:8080/"
        }
      },
      "execution_count": 66,
      "outputs": [
        {
          "output_type": "execute_result",
          "data": {
            "text/plain": [
              "(1, 397, 1)"
            ]
          },
          "metadata": {},
          "execution_count": 66
        }
      ]
    },
    {
      "cell_type": "code",
      "source": [],
      "metadata": {
        "id": "nC_ot3d1fQSX"
      },
      "execution_count": 67,
      "outputs": []
    },
    {
      "cell_type": "code",
      "source": [],
      "metadata": {
        "id": "7YYOypmvfcNl"
      },
      "execution_count": null,
      "outputs": []
    }
  ]
}