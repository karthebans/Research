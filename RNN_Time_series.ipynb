{
  "nbformat": 4,
  "nbformat_minor": 0,
  "metadata": {
    "colab": {
      "provenance": [],
      "include_colab_link": true
    },
    "kernelspec": {
      "name": "python3",
      "display_name": "Python 3"
    },
    "language_info": {
      "name": "python"
    },
    "accelerator": "GPU",
    "gpuClass": "standard"
  },
  "cells": [
    {
      "cell_type": "markdown",
      "metadata": {
        "id": "view-in-github",
        "colab_type": "text"
      },
      "source": [
        "<a href=\"https://colab.research.google.com/github/karthebans/Research/blob/main/RNN_Time_series.ipynb\" target=\"_parent\"><img src=\"https://colab.research.google.com/assets/colab-badge.svg\" alt=\"Open In Colab\"/></a>"
      ]
    },
    {
      "cell_type": "code",
      "source": [
        "import numpy as np"
      ],
      "metadata": {
        "id": "mrTo9FGVmgus"
      },
      "execution_count": 1,
      "outputs": []
    },
    {
      "cell_type": "code",
      "execution_count": 2,
      "metadata": {
        "id": "VdWkU1Lklya8"
      },
      "outputs": [],
      "source": [
        "def generate_time_series(batch_size,n_steps):\n",
        "    freq1, freq2, offset1, offset2, = np.random.rand(4,batch_size,1)\n",
        "    time = np.linspace(0,1,n_steps)\n",
        "    series = 0.5 * np.sin((time-offset1) * (freq1 * 10 + 10))\n",
        "    series +=0.2 * np.sin((time - offset2) * (freq2 *20 + 20))\n",
        "    series += 0.1 * (np.random.rand(batch_size, n_steps) - 0.5)\n",
        "    return series[..., np.newaxis].astype(np.float32)"
      ]
    },
    {
      "cell_type": "code",
      "source": [
        "n_steps = 50\n",
        "series = generate_time_series(10000, n_steps +1)\n",
        "series"
      ],
      "metadata": {
        "colab": {
          "base_uri": "https://localhost:8080/"
        },
        "id": "ikvYEzwLnwDs",
        "outputId": "1a076001-ce5d-4cc2-bb50-73ce1ebf8101"
      },
      "execution_count": 17,
      "outputs": [
        {
          "output_type": "execute_result",
          "data": {
            "text/plain": [
              "array([[[-0.54533035],\n",
              "        [-0.3996726 ],\n",
              "        [-0.22606987],\n",
              "        ...,\n",
              "        [-0.19724712],\n",
              "        [-0.40488192],\n",
              "        [-0.53282756]],\n",
              "\n",
              "       [[ 0.3056186 ],\n",
              "        [ 0.4003793 ],\n",
              "        [ 0.510774  ],\n",
              "        ...,\n",
              "        [ 0.18942614],\n",
              "        [ 0.1407173 ],\n",
              "        [ 0.0734825 ]],\n",
              "\n",
              "       [[ 0.11527731],\n",
              "        [-0.15259919],\n",
              "        [-0.3420273 ],\n",
              "        ...,\n",
              "        [ 0.09055861],\n",
              "        [-0.02715979],\n",
              "        [-0.19743623]],\n",
              "\n",
              "       ...,\n",
              "\n",
              "       [[ 0.42142615],\n",
              "        [ 0.24433033],\n",
              "        [ 0.12374406],\n",
              "        ...,\n",
              "        [ 0.28446057],\n",
              "        [ 0.34511817],\n",
              "        [ 0.28502357]],\n",
              "\n",
              "       [[-0.35891268],\n",
              "        [-0.12081373],\n",
              "        [ 0.11480688],\n",
              "        ...,\n",
              "        [-0.63869727],\n",
              "        [-0.54450625],\n",
              "        [-0.26703048]],\n",
              "\n",
              "       [[ 0.6441406 ],\n",
              "        [ 0.5917992 ],\n",
              "        [ 0.4523631 ],\n",
              "        ...,\n",
              "        [-0.3469636 ],\n",
              "        [-0.24242242],\n",
              "        [-0.31561497]]], dtype=float32)"
            ]
          },
          "metadata": {},
          "execution_count": 17
        }
      ]
    },
    {
      "cell_type": "code",
      "source": [
        "series[0][0]"
      ],
      "metadata": {
        "colab": {
          "base_uri": "https://localhost:8080/"
        },
        "id": "DPlppAFVpbWF",
        "outputId": "7881c05b-3ee3-4786-95ff-7fe3added88b"
      },
      "execution_count": 18,
      "outputs": [
        {
          "output_type": "execute_result",
          "data": {
            "text/plain": [
              "array([-0.54533035], dtype=float32)"
            ]
          },
          "metadata": {},
          "execution_count": 18
        }
      ]
    },
    {
      "cell_type": "code",
      "source": [
        "X_train, y_train = series[:7000, :n_steps], series[:7000, -1]"
      ],
      "metadata": {
        "id": "EfNTraRlpbZE"
      },
      "execution_count": 19,
      "outputs": []
    },
    {
      "cell_type": "code",
      "source": [
        "X_train"
      ],
      "metadata": {
        "id": "IUIM_flBpbbb"
      },
      "execution_count": null,
      "outputs": []
    },
    {
      "cell_type": "code",
      "source": [
        "y_train"
      ],
      "metadata": {
        "colab": {
          "base_uri": "https://localhost:8080/"
        },
        "id": "-TGp222Kpbet",
        "outputId": "de98f91e-64ab-40c4-cc3d-ca5c9c900628"
      },
      "execution_count": 21,
      "outputs": [
        {
          "output_type": "execute_result",
          "data": {
            "text/plain": [
              "array([[-0.53282756],\n",
              "       [ 0.0734825 ],\n",
              "       [-0.19743623],\n",
              "       ...,\n",
              "       [-0.60098857],\n",
              "       [-0.09373744],\n",
              "       [ 0.01936147]], dtype=float32)"
            ]
          },
          "metadata": {},
          "execution_count": 21
        }
      ]
    },
    {
      "cell_type": "code",
      "source": [
        "x_valid, y_valid = series[7000:9000, :n_steps], series[7000:9000,-1]"
      ],
      "metadata": {
        "id": "2lQ0ieVbpbh4"
      },
      "execution_count": 22,
      "outputs": []
    },
    {
      "cell_type": "code",
      "source": [
        "x_test, y_test = series[9000: , :n_steps], series[9000:,-1]"
      ],
      "metadata": {
        "id": "3ub8oknlpbky"
      },
      "execution_count": 9,
      "outputs": []
    },
    {
      "cell_type": "code",
      "source": [
        "x_test"
      ],
      "metadata": {
        "id": "tsmG6bgJsJOS"
      },
      "execution_count": null,
      "outputs": []
    },
    {
      "cell_type": "code",
      "source": [
        "y_test"
      ],
      "metadata": {
        "id": "-jgnC_VIsK7k"
      },
      "execution_count": null,
      "outputs": []
    },
    {
      "cell_type": "code",
      "source": [
        "import keras"
      ],
      "metadata": {
        "id": "F-CAnHhwsM-a"
      },
      "execution_count": 23,
      "outputs": []
    },
    {
      "cell_type": "code",
      "source": [
        "y_pred = x_valid[:,-1]"
      ],
      "metadata": {
        "id": "6HIgHK2asQ1H"
      },
      "execution_count": 24,
      "outputs": []
    },
    {
      "cell_type": "code",
      "source": [
        "y_pred"
      ],
      "metadata": {
        "colab": {
          "base_uri": "https://localhost:8080/"
        },
        "id": "WrD3NTwGsQ4x",
        "outputId": "e20c5422-05f6-4976-a56a-fad7d25938b5"
      },
      "execution_count": 25,
      "outputs": [
        {
          "output_type": "execute_result",
          "data": {
            "text/plain": [
              "array([[-0.28823906],\n",
              "       [ 0.2669238 ],\n",
              "       [-0.26998785],\n",
              "       ...,\n",
              "       [ 0.08451651],\n",
              "       [ 0.04933338],\n",
              "       [-0.31202528]], dtype=float32)"
            ]
          },
          "metadata": {},
          "execution_count": 25
        }
      ]
    },
    {
      "cell_type": "code",
      "source": [
        "np.mean(keras.losses.mean_squared_error(y_valid,y_pred))"
      ],
      "metadata": {
        "colab": {
          "base_uri": "https://localhost:8080/"
        },
        "id": "5PAzEntrsQ7n",
        "outputId": "ebeb770d-d9df-4af5-9ddf-c924f16a7291"
      },
      "execution_count": 26,
      "outputs": [
        {
          "output_type": "execute_result",
          "data": {
            "text/plain": [
              "0.020941718"
            ]
          },
          "metadata": {},
          "execution_count": 26
        }
      ]
    },
    {
      "cell_type": "code",
      "source": [
        "model = keras.models.Sequential([\n",
        "    keras.layers.Flatten(input_shape = [50,1]),\n",
        "    keras.layers.Dense(1)\n",
        "])"
      ],
      "metadata": {
        "id": "EAlsI255sQ-S"
      },
      "execution_count": 27,
      "outputs": []
    },
    {
      "cell_type": "code",
      "source": [],
      "metadata": {
        "id": "OaVfIiD2sRAk"
      },
      "execution_count": 16,
      "outputs": []
    },
    {
      "cell_type": "code",
      "source": [],
      "metadata": {
        "id": "nnsMRSULt0jR"
      },
      "execution_count": 16,
      "outputs": []
    },
    {
      "cell_type": "code",
      "source": [],
      "metadata": {
        "id": "J67LIpS6t0md"
      },
      "execution_count": 16,
      "outputs": []
    },
    {
      "cell_type": "code",
      "source": [],
      "metadata": {
        "id": "JBHNJHRSt0o0"
      },
      "execution_count": 16,
      "outputs": []
    },
    {
      "cell_type": "code",
      "source": [],
      "metadata": {
        "id": "5JRMeKK_t0rZ"
      },
      "execution_count": 16,
      "outputs": []
    },
    {
      "cell_type": "code",
      "source": [],
      "metadata": {
        "id": "PbeWx52Pt0uQ"
      },
      "execution_count": 16,
      "outputs": []
    },
    {
      "cell_type": "code",
      "source": [],
      "metadata": {
        "id": "yIcxLKrVt0wp"
      },
      "execution_count": 16,
      "outputs": []
    },
    {
      "cell_type": "code",
      "source": [],
      "metadata": {
        "id": "PW8ubNBtt0zN"
      },
      "execution_count": 16,
      "outputs": []
    },
    {
      "cell_type": "code",
      "source": [],
      "metadata": {
        "id": "gIE8p0f2sRDd"
      },
      "execution_count": 16,
      "outputs": []
    }
  ]
}