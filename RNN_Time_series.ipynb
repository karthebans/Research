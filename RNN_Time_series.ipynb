{
  "nbformat": 4,
  "nbformat_minor": 0,
  "metadata": {
    "colab": {
      "provenance": [],
      "include_colab_link": true
    },
    "kernelspec": {
      "name": "python3",
      "display_name": "Python 3"
    },
    "language_info": {
      "name": "python"
    },
    "accelerator": "GPU",
    "gpuClass": "standard"
  },
  "cells": [
    {
      "cell_type": "markdown",
      "metadata": {
        "id": "view-in-github",
        "colab_type": "text"
      },
      "source": [
        "<a href=\"https://colab.research.google.com/github/karthebans/Research/blob/main/RNN_Time_series.ipynb\" target=\"_parent\"><img src=\"https://colab.research.google.com/assets/colab-badge.svg\" alt=\"Open In Colab\"/></a>"
      ]
    },
    {
      "cell_type": "code",
      "source": [
        "import numpy as np"
      ],
      "metadata": {
        "id": "mrTo9FGVmgus"
      },
      "execution_count": 35,
      "outputs": []
    },
    {
      "cell_type": "code",
      "execution_count": 34,
      "metadata": {
        "id": "VdWkU1Lklya8"
      },
      "outputs": [],
      "source": [
        "def generate_time_series(batch_size,n_steps):\n",
        "    freq1, freq2, offset1, offset2, = np.random.rand(4,batch_size,1)\n",
        "    time = np.linspace(0,1,n_steps)\n",
        "    series = 0.5 * np.sin((time-offset1) * (freq1 * 10 + 10))\n",
        "    series +=0.2 * np.sin((time - offset2) * (freq2 *20 + 20))\n",
        "    series += 0.1 * (np.random.rand(batch_size, n_steps) - 0.5)\n",
        "    return series[..., np.newaxis].astype(np.float32)"
      ]
    },
    {
      "cell_type": "code",
      "source": [
        "n_steps = 50\n",
        "series = generate_time_series(10000, n_steps +1)\n",
        "series"
      ],
      "metadata": {
        "colab": {
          "base_uri": "https://localhost:8080/"
        },
        "id": "ikvYEzwLnwDs",
        "outputId": "1a076001-ce5d-4cc2-bb50-73ce1ebf8101"
      },
      "execution_count": 17,
      "outputs": [
        {
          "output_type": "execute_result",
          "data": {
            "text/plain": [
              "array([[[-0.54533035],\n",
              "        [-0.3996726 ],\n",
              "        [-0.22606987],\n",
              "        ...,\n",
              "        [-0.19724712],\n",
              "        [-0.40488192],\n",
              "        [-0.53282756]],\n",
              "\n",
              "       [[ 0.3056186 ],\n",
              "        [ 0.4003793 ],\n",
              "        [ 0.510774  ],\n",
              "        ...,\n",
              "        [ 0.18942614],\n",
              "        [ 0.1407173 ],\n",
              "        [ 0.0734825 ]],\n",
              "\n",
              "       [[ 0.11527731],\n",
              "        [-0.15259919],\n",
              "        [-0.3420273 ],\n",
              "        ...,\n",
              "        [ 0.09055861],\n",
              "        [-0.02715979],\n",
              "        [-0.19743623]],\n",
              "\n",
              "       ...,\n",
              "\n",
              "       [[ 0.42142615],\n",
              "        [ 0.24433033],\n",
              "        [ 0.12374406],\n",
              "        ...,\n",
              "        [ 0.28446057],\n",
              "        [ 0.34511817],\n",
              "        [ 0.28502357]],\n",
              "\n",
              "       [[-0.35891268],\n",
              "        [-0.12081373],\n",
              "        [ 0.11480688],\n",
              "        ...,\n",
              "        [-0.63869727],\n",
              "        [-0.54450625],\n",
              "        [-0.26703048]],\n",
              "\n",
              "       [[ 0.6441406 ],\n",
              "        [ 0.5917992 ],\n",
              "        [ 0.4523631 ],\n",
              "        ...,\n",
              "        [-0.3469636 ],\n",
              "        [-0.24242242],\n",
              "        [-0.31561497]]], dtype=float32)"
            ]
          },
          "metadata": {},
          "execution_count": 17
        }
      ]
    },
    {
      "cell_type": "code",
      "source": [
        "series[0][0]"
      ],
      "metadata": {
        "colab": {
          "base_uri": "https://localhost:8080/"
        },
        "id": "DPlppAFVpbWF",
        "outputId": "7881c05b-3ee3-4786-95ff-7fe3added88b"
      },
      "execution_count": 18,
      "outputs": [
        {
          "output_type": "execute_result",
          "data": {
            "text/plain": [
              "array([-0.54533035], dtype=float32)"
            ]
          },
          "metadata": {},
          "execution_count": 18
        }
      ]
    },
    {
      "cell_type": "code",
      "source": [
        "X_train, y_train = series[:7000, :n_steps], series[:7000, -1]"
      ],
      "metadata": {
        "id": "EfNTraRlpbZE"
      },
      "execution_count": 19,
      "outputs": []
    },
    {
      "cell_type": "code",
      "source": [
        "X_train"
      ],
      "metadata": {
        "id": "IUIM_flBpbbb"
      },
      "execution_count": null,
      "outputs": []
    },
    {
      "cell_type": "code",
      "source": [
        "y_train"
      ],
      "metadata": {
        "colab": {
          "base_uri": "https://localhost:8080/"
        },
        "id": "-TGp222Kpbet",
        "outputId": "de98f91e-64ab-40c4-cc3d-ca5c9c900628"
      },
      "execution_count": 21,
      "outputs": [
        {
          "output_type": "execute_result",
          "data": {
            "text/plain": [
              "array([[-0.53282756],\n",
              "       [ 0.0734825 ],\n",
              "       [-0.19743623],\n",
              "       ...,\n",
              "       [-0.60098857],\n",
              "       [-0.09373744],\n",
              "       [ 0.01936147]], dtype=float32)"
            ]
          },
          "metadata": {},
          "execution_count": 21
        }
      ]
    },
    {
      "cell_type": "code",
      "source": [
        "x_valid, y_valid = series[7000:9000, :n_steps], series[7000:9000,-1]"
      ],
      "metadata": {
        "id": "2lQ0ieVbpbh4"
      },
      "execution_count": 22,
      "outputs": []
    },
    {
      "cell_type": "code",
      "source": [
        "x_test, y_test = series[9000: , :n_steps], series[9000:,-1]"
      ],
      "metadata": {
        "id": "3ub8oknlpbky"
      },
      "execution_count": 9,
      "outputs": []
    },
    {
      "cell_type": "code",
      "source": [
        "x_test"
      ],
      "metadata": {
        "id": "tsmG6bgJsJOS"
      },
      "execution_count": null,
      "outputs": []
    },
    {
      "cell_type": "code",
      "source": [
        "y_test"
      ],
      "metadata": {
        "id": "-jgnC_VIsK7k"
      },
      "execution_count": null,
      "outputs": []
    },
    {
      "cell_type": "code",
      "source": [
        "import keras"
      ],
      "metadata": {
        "id": "F-CAnHhwsM-a"
      },
      "execution_count": 23,
      "outputs": []
    },
    {
      "cell_type": "code",
      "source": [
        "y_pred = x_valid[:,-1]"
      ],
      "metadata": {
        "id": "6HIgHK2asQ1H"
      },
      "execution_count": 24,
      "outputs": []
    },
    {
      "cell_type": "code",
      "source": [
        "y_pred"
      ],
      "metadata": {
        "colab": {
          "base_uri": "https://localhost:8080/"
        },
        "id": "WrD3NTwGsQ4x",
        "outputId": "e20c5422-05f6-4976-a56a-fad7d25938b5"
      },
      "execution_count": 25,
      "outputs": [
        {
          "output_type": "execute_result",
          "data": {
            "text/plain": [
              "array([[-0.28823906],\n",
              "       [ 0.2669238 ],\n",
              "       [-0.26998785],\n",
              "       ...,\n",
              "       [ 0.08451651],\n",
              "       [ 0.04933338],\n",
              "       [-0.31202528]], dtype=float32)"
            ]
          },
          "metadata": {},
          "execution_count": 25
        }
      ]
    },
    {
      "cell_type": "code",
      "source": [
        "np.mean(keras.losses.mean_squared_error(y_valid,y_pred))"
      ],
      "metadata": {
        "colab": {
          "base_uri": "https://localhost:8080/"
        },
        "id": "5PAzEntrsQ7n",
        "outputId": "ebeb770d-d9df-4af5-9ddf-c924f16a7291"
      },
      "execution_count": 26,
      "outputs": [
        {
          "output_type": "execute_result",
          "data": {
            "text/plain": [
              "0.020941718"
            ]
          },
          "metadata": {},
          "execution_count": 26
        }
      ]
    },
    {
      "cell_type": "code",
      "source": [
        "model = keras.models.Sequential([\n",
        "    keras.layers.Flatten(input_shape = [50,1]),\n",
        "    keras.layers.Dense(1)\n",
        "])"
      ],
      "metadata": {
        "id": "EAlsI255sQ-S"
      },
      "execution_count": 27,
      "outputs": []
    },
    {
      "cell_type": "code",
      "source": [
        "import pandas as pd"
      ],
      "metadata": {
        "id": "OaVfIiD2sRAk"
      },
      "execution_count": 1,
      "outputs": []
    },
    {
      "cell_type": "code",
      "source": [
        "df = pd.read_csv('https://raw.githubusercontent.com/ejgao/Time-Series-Datasets/master/Electric_Production.csv')"
      ],
      "metadata": {
        "id": "nnsMRSULt0jR"
      },
      "execution_count": 3,
      "outputs": []
    },
    {
      "cell_type": "code",
      "source": [
        "df.columns = ['date','value']"
      ],
      "metadata": {
        "id": "J67LIpS6t0md"
      },
      "execution_count": 4,
      "outputs": []
    },
    {
      "cell_type": "code",
      "source": [
        "df.head()"
      ],
      "metadata": {
        "id": "JBHNJHRSt0o0",
        "colab": {
          "base_uri": "https://localhost:8080/",
          "height": 206
        },
        "outputId": "478e5104-6569-46ec-a9d6-d63a998a428f"
      },
      "execution_count": 5,
      "outputs": [
        {
          "output_type": "execute_result",
          "data": {
            "text/plain": [
              "       date    value\n",
              "0  1/1/1985  72.5052\n",
              "1  2/1/1985  70.6720\n",
              "2  3/1/1985  62.4502\n",
              "3  4/1/1985  57.4714\n",
              "4  5/1/1985  55.3151"
            ],
            "text/html": [
              "\n",
              "  <div id=\"df-16c513da-368f-4d20-a1b4-f37d644a8477\">\n",
              "    <div class=\"colab-df-container\">\n",
              "      <div>\n",
              "<style scoped>\n",
              "    .dataframe tbody tr th:only-of-type {\n",
              "        vertical-align: middle;\n",
              "    }\n",
              "\n",
              "    .dataframe tbody tr th {\n",
              "        vertical-align: top;\n",
              "    }\n",
              "\n",
              "    .dataframe thead th {\n",
              "        text-align: right;\n",
              "    }\n",
              "</style>\n",
              "<table border=\"1\" class=\"dataframe\">\n",
              "  <thead>\n",
              "    <tr style=\"text-align: right;\">\n",
              "      <th></th>\n",
              "      <th>date</th>\n",
              "      <th>value</th>\n",
              "    </tr>\n",
              "  </thead>\n",
              "  <tbody>\n",
              "    <tr>\n",
              "      <th>0</th>\n",
              "      <td>1/1/1985</td>\n",
              "      <td>72.5052</td>\n",
              "    </tr>\n",
              "    <tr>\n",
              "      <th>1</th>\n",
              "      <td>2/1/1985</td>\n",
              "      <td>70.6720</td>\n",
              "    </tr>\n",
              "    <tr>\n",
              "      <th>2</th>\n",
              "      <td>3/1/1985</td>\n",
              "      <td>62.4502</td>\n",
              "    </tr>\n",
              "    <tr>\n",
              "      <th>3</th>\n",
              "      <td>4/1/1985</td>\n",
              "      <td>57.4714</td>\n",
              "    </tr>\n",
              "    <tr>\n",
              "      <th>4</th>\n",
              "      <td>5/1/1985</td>\n",
              "      <td>55.3151</td>\n",
              "    </tr>\n",
              "  </tbody>\n",
              "</table>\n",
              "</div>\n",
              "      <button class=\"colab-df-convert\" onclick=\"convertToInteractive('df-16c513da-368f-4d20-a1b4-f37d644a8477')\"\n",
              "              title=\"Convert this dataframe to an interactive table.\"\n",
              "              style=\"display:none;\">\n",
              "        \n",
              "  <svg xmlns=\"http://www.w3.org/2000/svg\" height=\"24px\"viewBox=\"0 0 24 24\"\n",
              "       width=\"24px\">\n",
              "    <path d=\"M0 0h24v24H0V0z\" fill=\"none\"/>\n",
              "    <path d=\"M18.56 5.44l.94 2.06.94-2.06 2.06-.94-2.06-.94-.94-2.06-.94 2.06-2.06.94zm-11 1L8.5 8.5l.94-2.06 2.06-.94-2.06-.94L8.5 2.5l-.94 2.06-2.06.94zm10 10l.94 2.06.94-2.06 2.06-.94-2.06-.94-.94-2.06-.94 2.06-2.06.94z\"/><path d=\"M17.41 7.96l-1.37-1.37c-.4-.4-.92-.59-1.43-.59-.52 0-1.04.2-1.43.59L10.3 9.45l-7.72 7.72c-.78.78-.78 2.05 0 2.83L4 21.41c.39.39.9.59 1.41.59.51 0 1.02-.2 1.41-.59l7.78-7.78 2.81-2.81c.8-.78.8-2.07 0-2.86zM5.41 20L4 18.59l7.72-7.72 1.47 1.35L5.41 20z\"/>\n",
              "  </svg>\n",
              "      </button>\n",
              "      \n",
              "  <style>\n",
              "    .colab-df-container {\n",
              "      display:flex;\n",
              "      flex-wrap:wrap;\n",
              "      gap: 12px;\n",
              "    }\n",
              "\n",
              "    .colab-df-convert {\n",
              "      background-color: #E8F0FE;\n",
              "      border: none;\n",
              "      border-radius: 50%;\n",
              "      cursor: pointer;\n",
              "      display: none;\n",
              "      fill: #1967D2;\n",
              "      height: 32px;\n",
              "      padding: 0 0 0 0;\n",
              "      width: 32px;\n",
              "    }\n",
              "\n",
              "    .colab-df-convert:hover {\n",
              "      background-color: #E2EBFA;\n",
              "      box-shadow: 0px 1px 2px rgba(60, 64, 67, 0.3), 0px 1px 3px 1px rgba(60, 64, 67, 0.15);\n",
              "      fill: #174EA6;\n",
              "    }\n",
              "\n",
              "    [theme=dark] .colab-df-convert {\n",
              "      background-color: #3B4455;\n",
              "      fill: #D2E3FC;\n",
              "    }\n",
              "\n",
              "    [theme=dark] .colab-df-convert:hover {\n",
              "      background-color: #434B5C;\n",
              "      box-shadow: 0px 1px 3px 1px rgba(0, 0, 0, 0.15);\n",
              "      filter: drop-shadow(0px 1px 2px rgba(0, 0, 0, 0.3));\n",
              "      fill: #FFFFFF;\n",
              "    }\n",
              "  </style>\n",
              "\n",
              "      <script>\n",
              "        const buttonEl =\n",
              "          document.querySelector('#df-16c513da-368f-4d20-a1b4-f37d644a8477 button.colab-df-convert');\n",
              "        buttonEl.style.display =\n",
              "          google.colab.kernel.accessAllowed ? 'block' : 'none';\n",
              "\n",
              "        async function convertToInteractive(key) {\n",
              "          const element = document.querySelector('#df-16c513da-368f-4d20-a1b4-f37d644a8477');\n",
              "          const dataTable =\n",
              "            await google.colab.kernel.invokeFunction('convertToInteractive',\n",
              "                                                     [key], {});\n",
              "          if (!dataTable) return;\n",
              "\n",
              "          const docLinkHtml = 'Like what you see? Visit the ' +\n",
              "            '<a target=\"_blank\" href=https://colab.research.google.com/notebooks/data_table.ipynb>data table notebook</a>'\n",
              "            + ' to learn more about interactive tables.';\n",
              "          element.innerHTML = '';\n",
              "          dataTable['output_type'] = 'display_data';\n",
              "          await google.colab.output.renderOutput(dataTable, element);\n",
              "          const docLink = document.createElement('div');\n",
              "          docLink.innerHTML = docLinkHtml;\n",
              "          element.appendChild(docLink);\n",
              "        }\n",
              "      </script>\n",
              "    </div>\n",
              "  </div>\n",
              "  "
            ]
          },
          "metadata": {},
          "execution_count": 5
        }
      ]
    },
    {
      "cell_type": "code",
      "source": [
        "y = df.value.values"
      ],
      "metadata": {
        "id": "5JRMeKK_t0rZ"
      },
      "execution_count": 7,
      "outputs": []
    },
    {
      "cell_type": "code",
      "source": [
        "from tensorflow.keras.preprocessing.sequence import TimeseriesGenerator\n",
        "import keras\n",
        "from keras.models import Sequential\n",
        "from keras.layers import SimpleRNN, Dense"
      ],
      "metadata": {
        "id": "4npsOwXxUOjD"
      },
      "execution_count": 15,
      "outputs": []
    },
    {
      "cell_type": "code",
      "source": [
        "# How many record to take into account\n",
        "length = 2\n",
        "\n",
        "batch_size = 1\n",
        "\n",
        "# 1 beacause it's univariate\n",
        "n_features = 1"
      ],
      "metadata": {
        "id": "PbeWx52Pt0uQ"
      },
      "execution_count": 16,
      "outputs": []
    },
    {
      "cell_type": "code",
      "source": [
        "generator = TimeseriesGenerator(y, y, stride=3, length=length, batch_size=batch_size)\n"
      ],
      "metadata": {
        "id": "yIcxLKrVt0wp"
      },
      "execution_count": 17,
      "outputs": []
    },
    {
      "cell_type": "code",
      "source": [
        "model = Sequential()\n",
        "model.add(SimpleRNN(100, activation='relu', input_shape=(length, n_features)))\n",
        "model.add(Dense(100, activation='relu', input_shape=(length, n_features)))\n",
        "model.add(Dense(1))\n",
        "model.compile(optimizer='adam', loss=\"mse\")\n",
        "model.fit(generator)"
      ],
      "metadata": {
        "id": "PW8ubNBtt0zN",
        "colab": {
          "base_uri": "https://localhost:8080/"
        },
        "outputId": "202257fd-34e9-4b0f-c6cf-0aa321df3c47"
      },
      "execution_count": 18,
      "outputs": [
        {
          "output_type": "stream",
          "name": "stdout",
          "text": [
            "132/132 [==============================] - 4s 4ms/step - loss: 583.0765\n"
          ]
        },
        {
          "output_type": "execute_result",
          "data": {
            "text/plain": [
              "<keras.callbacks.History at 0x7f94c81e3ad0>"
            ]
          },
          "metadata": {},
          "execution_count": 18
        }
      ]
    },
    {
      "cell_type": "code",
      "source": [
        "model.save('model.h5')"
      ],
      "metadata": {
        "id": "gIE8p0f2sRDd"
      },
      "execution_count": 19,
      "outputs": []
    },
    {
      "cell_type": "code",
      "source": [
        "pred = model.predict(generator)"
      ],
      "metadata": {
        "id": "HE4fnLSFVLJx"
      },
      "execution_count": 23,
      "outputs": []
    },
    {
      "cell_type": "code",
      "source": [
        "pd.DataFrame(pred)."
      ],
      "metadata": {
        "id": "FikVDUxnWCPY",
        "outputId": "5300cbbf-a4fd-480d-c3c2-ec4b57b66e6f",
        "colab": {
          "base_uri": "https://localhost:8080/",
          "height": 282
        }
      },
      "execution_count": 25,
      "outputs": [
        {
          "output_type": "execute_result",
          "data": {
            "text/plain": [
              "<matplotlib.axes._subplots.AxesSubplot at 0x7f94b0fc2750>"
            ]
          },
          "metadata": {},
          "execution_count": 25
        },
        {
          "output_type": "display_data",
          "data": {
            "text/plain": [
              "<Figure size 432x288 with 1 Axes>"
            ],
            "image/png": "[encoded data removed]"
          },
          "metadata": {
            "needs_background": "light"
          }
        }
      ]
    },
    {
      "cell_type": "code",
      "source": [
        "df.value.plot()"
      ],
      "metadata": {
        "id": "eB88FNddWbT3",
        "outputId": "8a208bec-85c4-4b01-b7d7-82b0e07e526f",
        "colab": {
          "base_uri": "https://localhost:8080/",
          "height": 282
        }
      },
      "execution_count": 27,
      "outputs": [
        {
          "output_type": "execute_result",
          "data": {
            "text/plain": [
              "<matplotlib.axes._subplots.AxesSubplot at 0x7f94b17f0610>"
            ]
          },
          "metadata": {},
          "execution_count": 27
        },
        {
          "output_type": "display_data",
          "data": {
            "text/plain": [
              "<Figure size 432x288 with 1 Axes>"
            ],
            "image/png": "[encoded data removed]"
          },
          "metadata": {
            "needs_background": "light"
          }
        }
      ]
    },
    {
      "cell_type": "code",
      "source": [
        "for step_ahead in range(10):\n",
        "    y_pred_one = model.predict(y[:, step_ahead:])[:, np.newaxis, :]\n",
        "    x = np.concatenate([x, y_pred_one], axis=1)"
      ],
      "metadata": {
        "id": "yjceA0qzWr_Y",
        "outputId": "0a678e29-7f2e-4142-b766-be5d6f3678d1",
        "colab": {
          "base_uri": "https://localhost:8080/",
          "height": 200
        }
      },
      "execution_count": 31,
      "outputs": [
        {
          "output_type": "error",
          "ename": "IndexError",
          "evalue": "ignored",
          "traceback": [
            "\u001b[0;31m---------------------------------------------------------------------------\u001b[0m",
            "\u001b[0;31mIndexError\u001b[0m                                Traceback (most recent call last)",
            "\u001b[0;32m<ipython-input-31-38bdd3dabb35>\u001b[0m in \u001b[0;36m<module>\u001b[0;34m\u001b[0m\n\u001b[1;32m      1\u001b[0m \u001b[0;32mfor\u001b[0m \u001b[0mstep_ahead\u001b[0m \u001b[0;32min\u001b[0m \u001b[0mrange\u001b[0m\u001b[0;34m(\u001b[0m\u001b[0;36m10\u001b[0m\u001b[0;34m)\u001b[0m\u001b[0;34m:\u001b[0m\u001b[0;34m\u001b[0m\u001b[0;34m\u001b[0m\u001b[0m\n\u001b[0;32m----> 2\u001b[0;31m     \u001b[0my_pred_one\u001b[0m \u001b[0;34m=\u001b[0m \u001b[0mmodel\u001b[0m\u001b[0;34m.\u001b[0m\u001b[0mpredict\u001b[0m\u001b[0;34m(\u001b[0m\u001b[0my\u001b[0m\u001b[0;34m[\u001b[0m\u001b[0;34m:\u001b[0m\u001b[0;34m,\u001b[0m \u001b[0mstep_ahead\u001b[0m\u001b[0;34m:\u001b[0m\u001b[0;34m]\u001b[0m\u001b[0;34m)\u001b[0m\u001b[0;34m[\u001b[0m\u001b[0;34m:\u001b[0m\u001b[0;34m,\u001b[0m \u001b[0mnp\u001b[0m\u001b[0;34m.\u001b[0m\u001b[0mnewaxis\u001b[0m\u001b[0;34m,\u001b[0m \u001b[0;34m:\u001b[0m\u001b[0;34m]\u001b[0m\u001b[0;34m\u001b[0m\u001b[0;34m\u001b[0m\u001b[0m\n\u001b[0m\u001b[1;32m      3\u001b[0m     \u001b[0mx\u001b[0m \u001b[0;34m=\u001b[0m \u001b[0mnp\u001b[0m\u001b[0;34m.\u001b[0m\u001b[0mconcatenate\u001b[0m\u001b[0;34m(\u001b[0m\u001b[0;34m[\u001b[0m\u001b[0mx\u001b[0m\u001b[0;34m,\u001b[0m \u001b[0my_pred_one\u001b[0m\u001b[0;34m]\u001b[0m\u001b[0;34m,\u001b[0m \u001b[0maxis\u001b[0m\u001b[0;34m=\u001b[0m\u001b[0;36m1\u001b[0m\u001b[0;34m)\u001b[0m\u001b[0;34m\u001b[0m\u001b[0;34m\u001b[0m\u001b[0m\n",
            "\u001b[0;31mIndexError\u001b[0m: too many indices for array: array is 1-dimensional, but 2 were indexed"
          ]
        }
      ]
    },
    {
      "cell_type": "code",
      "source": [],
      "metadata": {
        "id": "B-NVp62xcRyG",
        "outputId": "8e627bec-8a8d-4296-ae70-0c00ff30c2d3",
        "colab": {
          "base_uri": "https://localhost:8080/"
        }
      },
      "execution_count": 33,
      "outputs": [
        {
          "output_type": "execute_result",
          "data": {
            "text/plain": [
              "array([ 72.5052,  70.672 ,  62.4502,  57.4714,  55.3151,  58.0904,\n",
              "        62.6202,  63.2485,  60.5846,  56.3154,  58.0005,  68.7145,\n",
              "        73.3057,  67.9869,  62.2221,  57.0329,  55.8137,  59.9005,\n",
              "        65.7655,  64.4816,  61.0005,  57.5322,  59.3417,  68.1354,\n",
              "        73.8152,  70.062 ,  65.61  ,  60.1586,  58.8734,  63.8918,\n",
              "        68.8694,  70.0669,  64.1151,  60.3789,  62.4643,  70.5777,\n",
              "        79.8703,  76.1622,  70.2928,  63.2384,  61.4065,  67.1097,\n",
              "        72.9816,  75.7655,  67.5152,  63.2832,  65.1078,  73.8631,\n",
              "        77.9188,  76.6822,  73.3523,  65.1081,  63.6892,  68.4722,\n",
              "        74.0301,  75.0448,  69.3053,  65.8735,  69.0706,  84.1949,\n",
              "        84.3598,  77.1726,  73.1964,  67.2781,  65.8218,  71.4654,\n",
              "        76.614 ,  77.1052,  73.061 ,  67.4365,  68.5665,  77.6839,\n",
              "        86.0214,  77.5573,  73.365 ,  67.15  ,  68.8162,  74.8448,\n",
              "        80.0928,  79.1606,  73.5743,  68.7538,  72.5166,  79.4894,\n",
              "        85.2855,  80.1643,  74.5275,  69.6441,  67.1784,  71.2078,\n",
              "        77.5081,  76.5374,  72.3541,  69.0286,  73.4992,  84.5159,\n",
              "        87.9464,  84.5561,  79.4747,  71.0578,  67.6762,  74.3297,\n",
              "        82.1048,  82.0605,  74.6031,  69.681 ,  74.4292,  84.2284,\n",
              "        94.1386,  87.1607,  79.2456,  70.9749,  69.3844,  77.9831,\n",
              "        83.277 ,  81.8872,  75.6826,  71.2661,  75.2458,  84.8147,\n",
              "        92.4532,  87.4033,  81.2661,  73.8167,  73.2682,  78.3026,\n",
              "        85.9841,  89.5467,  78.5035,  73.7066,  79.6543,  90.8251,\n",
              "        98.9732,  92.8883,  86.9356,  77.2214,  76.6826,  81.9306,\n",
              "        85.9606,  86.5562,  79.1919,  74.6891,  81.074 ,  90.4855,\n",
              "        98.4613,  89.7795,  83.0125,  76.1476,  73.8471,  79.7645,\n",
              "        88.4519,  87.7828,  81.9386,  77.5027,  82.0448,  92.101 ,\n",
              "        94.792 ,  87.82  ,  86.5549,  76.7521,  78.0303,  86.4579,\n",
              "        93.8379,  93.531 ,  87.5414,  80.0924,  81.4349,  91.6841,\n",
              "       102.1348,  91.1829,  90.7381,  80.5176,  79.3887,  87.8431,\n",
              "        97.4903,  96.4157,  87.2248,  80.6409,  82.2025,  94.5113,\n",
              "       102.2301,  94.2989,  88.0927,  81.4425,  84.4552,  91.0406,\n",
              "        95.9957,  99.3704,  90.9178,  83.1408,  88.041 , 102.4558,\n",
              "       109.1081,  97.1717,  92.8283,  82.915 ,  82.5465,  90.3955,\n",
              "        96.074 ,  99.5534,  88.281 ,  82.686 ,  82.9319,  93.0381,\n",
              "       102.9955,  95.2075,  93.2556,  85.795 ,  85.2351,  93.1896,\n",
              "       102.393 , 101.6293,  93.3089,  86.9002,  88.5749, 100.8003,\n",
              "       110.1807, 103.8413,  94.5532,  85.062 ,  85.4653,  91.0761,\n",
              "       102.22  , 104.4682,  92.9135,  86.5047,  88.5735, 103.5428,\n",
              "       113.7226, 106.159 ,  95.4029,  86.7233,  89.0302,  95.5045,\n",
              "       101.7948, 100.2025,  94.024 ,  87.5262,  89.6144, 105.7263,\n",
              "       111.1614, 101.7795,  98.9565,  86.4776,  87.2234,  99.5076,\n",
              "       108.3501, 109.4862,  99.1155,  89.7567,  90.4587, 108.2257,\n",
              "       104.4724, 101.5196,  98.4017,  87.5093,  90.0222, 100.5244,\n",
              "       110.9503, 111.5192,  95.7632,  90.3738,  92.3566, 103.066 ,\n",
              "       112.0576, 111.8399,  99.1925,  90.8177,  92.0587, 100.9676,\n",
              "       107.5686, 114.1036, 101.5316,  93.0068,  93.9126, 106.7528,\n",
              "       114.8331, 108.2353, 100.4386,  90.9944,  91.2348, 103.9581,\n",
              "       110.7631, 107.5665,  97.7183,  90.9979,  93.8057, 109.4221,\n",
              "       116.8316, 104.4202,  97.8529,  88.1973,  87.5366,  97.2387,\n",
              "       103.9086, 105.7486,  94.8823,  89.2977,  89.3585, 110.6844,\n",
              "       119.0166, 110.533 ,  98.2672,  86.3   ,  90.8364, 104.3538,\n",
              "       112.8066, 112.9014, 100.1209,  88.9251,  92.775 , 114.3266,\n",
              "       119.488 , 107.3753,  99.1028,  89.3583,  90.0698, 102.8204,\n",
              "       114.7068, 113.5958,  99.4712,  90.3566,  93.8095, 107.3312,\n",
              "       111.9646, 103.3679,  93.5772,  87.5566,  92.7603, 101.14  ,\n",
              "       113.0357, 109.8601,  96.7431,  90.3805,  94.3417, 105.2722,\n",
              "       115.501 , 106.734 , 102.9948,  91.0092,  90.9634, 100.6957,\n",
              "       110.148 , 108.1756,  99.2809,  91.7871,  97.2853, 113.4732,\n",
              "       124.2549, 112.8811, 104.7631,  90.2867,  92.134 , 101.878 ,\n",
              "       108.5497, 108.194 , 100.4172,  92.3837,  99.7033, 109.3477,\n",
              "       120.2696, 116.3788, 104.4706,  89.7461,  91.093 , 102.6495,\n",
              "       111.6354, 110.5925, 101.9204,  91.5959,  93.0628, 103.2203,\n",
              "       117.0837, 106.6688,  95.3548,  89.3254,  90.7369, 104.0375,\n",
              "       114.5397, 115.5159, 102.7637,  91.4867,  92.89  , 112.7694,\n",
              "       114.8505,  99.4901, 101.0396,  88.353 ,  92.0805, 102.1532,\n",
              "       112.1538, 108.9312,  98.6154,  93.6137,  97.3359, 114.7212,\n",
              "       129.4048])"
            ]
          },
          "metadata": {},
          "execution_count": 33
        }
      ]
    },
    {
      "cell_type": "code",
      "source": [],
      "metadata": {
        "id": "28ai3EsBc8T3"
      },
      "execution_count": null,
      "outputs": []
    }
  ]
}