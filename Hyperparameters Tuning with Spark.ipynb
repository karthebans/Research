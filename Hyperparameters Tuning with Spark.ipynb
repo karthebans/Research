{
 "cells": [
  {
   "cell_type": "markdown",
   "metadata": {},
   "source": [
    "## **Effortless Hyperparameters Tuning with Apache Spark**"
   ]
  },
  {
   "cell_type": "code",
   "execution_count": 2,
   "metadata": {},
   "outputs": [
    {
     "name": "stdout",
     "output_type": "stream",
     "text": [
      "Collecting pandas\n",
      "  Downloading pandas-1.5.1-cp38-cp38-manylinux_2_17_x86_64.manylinux2014_x86_64.whl (12.2 MB)\n",
      "\u001b[K     |████████████████████████████████| 12.2 MB 23.8 MB/s eta 0:00:01\n",
      "\u001b[?25hCollecting pytz>=2020.1\n",
      "  Downloading pytz-2022.6-py2.py3-none-any.whl (498 kB)\n",
      "\u001b[K     |████████████████████████████████| 498 kB 65.5 MB/s eta 0:00:01\n",
      "\u001b[?25hCollecting numpy>=1.20.3; python_version < \"3.10\"\n",
      "  Downloading numpy-1.23.4-cp38-cp38-manylinux_2_17_x86_64.manylinux2014_x86_64.whl (17.1 MB)\n",
      "\u001b[K     |████████████████████████████████| 17.1 MB 64.9 MB/s eta 0:00:01\n",
      "\u001b[?25hRequirement already satisfied: python-dateutil>=2.8.1 in /config/.local/lib/python3.8/site-packages (from pandas) (2.8.2)\n",
      "Requirement already satisfied: six>=1.5 in /config/.local/lib/python3.8/site-packages (from python-dateutil>=2.8.1->pandas) (1.16.0)\n",
      "Installing collected packages: pytz, numpy, pandas\n",
      "\u001b[33m  WARNING: The scripts f2py, f2py3 and f2py3.8 are installed in '/config/.local/bin' which is not on PATH.\n",
      "  Consider adding this directory to PATH or, if you prefer to suppress this warning, use --no-warn-script-location.\u001b[0m\n",
      "Successfully installed numpy-1.23.4 pandas-1.5.1 pytz-2022.6\n"
     ]
    }
   ],
   "source": [
    "!pip install pandas"
   ]
  },
  {
   "cell_type": "code",
   "execution_count": 3,
   "metadata": {},
   "outputs": [
    {
     "name": "stdout",
     "output_type": "stream",
     "text": [
      "Requirement already satisfied: numpy in /config/.local/lib/python3.8/site-packages (1.23.4)\n"
     ]
    }
   ],
   "source": [
    "!pip install numpy"
   ]
  },
  {
   "cell_type": "code",
   "execution_count": 15,
   "metadata": {},
   "outputs": [
    {
     "name": "stdout",
     "output_type": "stream",
     "text": [
      "Collecting scikit-learn\n",
      "  Downloading scikit_learn-1.1.3-cp38-cp38-manylinux_2_17_x86_64.manylinux2014_x86_64.whl (31.2 MB)\n",
      "\u001b[K     |████████████████████████████████| 31.2 MB 22.6 MB/s eta 0:00:01\n",
      "\u001b[?25hCollecting joblib>=1.0.0\n",
      "  Downloading joblib-1.2.0-py3-none-any.whl (297 kB)\n",
      "\u001b[K     |████████████████████████████████| 297 kB 42.2 MB/s eta 0:00:01\n",
      "\u001b[?25hCollecting scipy>=1.3.2\n",
      "  Downloading scipy-1.9.3-cp38-cp38-manylinux_2_17_x86_64.manylinux2014_x86_64.whl (33.8 MB)\n",
      "\u001b[K     |████████████████████████████████| 33.8 MB 65.4 MB/s eta 0:00:01\n",
      "\u001b[?25hRequirement already satisfied: numpy>=1.17.3 in /config/.local/lib/python3.8/site-packages (from scikit-learn) (1.23.4)\n",
      "Collecting threadpoolctl>=2.0.0\n",
      "  Downloading threadpoolctl-3.1.0-py3-none-any.whl (14 kB)\n",
      "Installing collected packages: joblib, scipy, threadpoolctl, scikit-learn\n",
      "Successfully installed joblib-1.2.0 scikit-learn-1.1.3 scipy-1.9.3 threadpoolctl-3.1.0\n"
     ]
    }
   ],
   "source": [
    "!pip install scikit-learn"
   ]
  },
  {
   "cell_type": "code",
   "execution_count": 23,
   "metadata": {},
   "outputs": [
    {
     "name": "stdout",
     "output_type": "stream",
     "text": [
      "Collecting xgboost\n",
      "  Downloading xgboost-1.7.1-py3-none-manylinux2014_x86_64.whl (193.6 MB)\n",
      "\u001b[K     |████████████████████████████████| 193.6 MB 167 kB/s  eta 0:00:01\n",
      "\u001b[?25hRequirement already satisfied: numpy in /config/.local/lib/python3.8/site-packages (from xgboost) (1.23.4)\n",
      "Requirement already satisfied: scipy in /config/.local/lib/python3.8/site-packages (from xgboost) (1.9.3)\n",
      "Installing collected packages: xgboost\n",
      "Successfully installed xgboost-1.7.1\n"
     ]
    }
   ],
   "source": [
    "!pip install xgboost"
   ]
  },
  {
   "cell_type": "code",
   "execution_count": 25,
   "metadata": {},
   "outputs": [
    {
     "name": "stdout",
     "output_type": "stream",
     "text": [
      "Collecting interruptingcow\n",
      "  Downloading interruptingcow-0.8.tar.gz (5.0 kB)\n",
      "Building wheels for collected packages: interruptingcow\n",
      "  Building wheel for interruptingcow (setup.py) ... \u001b[?25ldone\n",
      "\u001b[?25h  Created wheel for interruptingcow: filename=interruptingcow-0.8-py3-none-any.whl size=5804 sha256=1a477818fd15c4fbb5cbfbb6cffb708d7111b61bd9d38d88376b7942785b22a2\n",
      "  Stored in directory: /config/.cache/pip/wheels/ed/43/cc/2a5511c6cabcee2e975227e93fb05c708e406844b0ff24ea49\n",
      "Successfully built interruptingcow\n",
      "Installing collected packages: interruptingcow\n",
      "Successfully installed interruptingcow-0.8\n"
     ]
    }
   ],
   "source": [
    "!pip install interruptingcow"
   ]
  },
  {
   "cell_type": "code",
   "execution_count": 27,
   "metadata": {},
   "outputs": [
    {
     "name": "stdout",
     "output_type": "stream",
     "text": [
      "Collecting preprocessing\n",
      "  Downloading preprocessing-0.1.13-py3-none-any.whl (349 kB)\n",
      "\u001b[K     |████████████████████████████████| 349 kB 16.6 MB/s eta 0:00:01\n",
      "\u001b[?25hCollecting sphinx-rtd-theme==0.2.4\n",
      "  Downloading sphinx_rtd_theme-0.2.4-py2.py3-none-any.whl (1.4 MB)\n",
      "\u001b[K     |████████████████████████████████| 1.4 MB 55.6 MB/s eta 0:00:01\n",
      "\u001b[?25hCollecting nltk==3.2.4\n",
      "  Downloading nltk-3.2.4.tar.gz (1.2 MB)\n",
      "\u001b[K     |████████████████████████████████| 1.2 MB 66.8 MB/s eta 0:00:01\n",
      "\u001b[?25hRequirement already satisfied: six in /config/.local/lib/python3.8/site-packages (from nltk==3.2.4->preprocessing) (1.16.0)\n",
      "Building wheels for collected packages: nltk\n",
      "  Building wheel for nltk (setup.py) ... \u001b[?25ldone\n",
      "\u001b[?25h  Created wheel for nltk: filename=nltk-3.2.4-py3-none-any.whl size=1367704 sha256=66a204aa505366b2e0acecea91726e6353e78e6c6adc7971f12925896741c0e3\n",
      "  Stored in directory: /config/.cache/pip/wheels/d9/37/86/b5270b826e4b542bd6791005300c9d3864059901c7efc03545\n",
      "Successfully built nltk\n",
      "Installing collected packages: sphinx-rtd-theme, nltk, preprocessing\n",
      "Successfully installed nltk-3.2.4 preprocessing-0.1.13 sphinx-rtd-theme-0.2.4\n"
     ]
    }
   ],
   "source": [
    "!pip install preprocessing"
   ]
  },
  {
   "cell_type": "code",
   "execution_count": 34,
   "metadata": {},
   "outputs": [
    {
     "name": "stdout",
     "output_type": "stream",
     "text": [
      "Collecting pymongo\n",
      "  Downloading pymongo-4.3.2-cp38-cp38-manylinux2014_x86_64.whl (518 kB)\n",
      "\u001b[K     |████████████████████████████████| 518 kB 21.6 MB/s eta 0:00:01\n",
      "\u001b[?25hCollecting dnspython<3.0.0,>=1.16.0\n",
      "  Downloading dnspython-2.2.1-py3-none-any.whl (269 kB)\n",
      "\u001b[K     |████████████████████████████████| 269 kB 60.7 MB/s eta 0:00:01\n",
      "\u001b[?25hInstalling collected packages: dnspython, pymongo\n",
      "Successfully installed dnspython-2.2.1 pymongo-4.3.2\n"
     ]
    }
   ],
   "source": [
    "!pip install pymongo"
   ]
  },
  {
   "cell_type": "code",
   "execution_count": 36,
   "metadata": {},
   "outputs": [
    {
     "name": "stdout",
     "output_type": "stream",
     "text": [
      "Collecting joblibspark\n",
      "  Downloading joblibspark-0.5.0-py3-none-any.whl (15 kB)\n",
      "Requirement already satisfied: joblib>=0.14 in /config/.local/lib/python3.8/site-packages (from joblibspark) (1.2.0)\n",
      "Installing collected packages: joblibspark\n",
      "Successfully installed joblibspark-0.5.0\n"
     ]
    }
   ],
   "source": [
    "!pip install joblibspark"
   ]
  },
  {
   "cell_type": "code",
   "execution_count": 19,
   "metadata": {},
   "outputs": [],
   "source": [
    "import pandas as pd\n",
    "import numpy as np\n",
    "from sklearn.metrics import r2_score"
   ]
  },
  {
   "cell_type": "code",
   "execution_count": 6,
   "metadata": {},
   "outputs": [],
   "source": [
    "df = pd.read_csv(\"https://gist.githubusercontent.com/aialenti/22ee46bb7cfc714286c881cc556cb9f0/raw/395a57e5462a6d352319dda4e9cad11a5b07ab35/file.csv\")"
   ]
  },
  {
   "cell_type": "code",
   "execution_count": 7,
   "metadata": {},
   "outputs": [],
   "source": [
    "def preprocessing():\n",
    "    # Read input data\n",
    "    url = 'https://gist.githubusercontent.com/aialenti/22ee46bb7cfc714286c881cc556cb9f0/raw/395a57e5462a6d352319dda4e9cad11a5b07ab35/file.csv'\n",
    "    train = pd.read_csv(url)\n",
    "    categorical = [\"X0\", \"X1\", \"X2\", \"X3\", \"X4\", \"X5\", \"X6\", \"X8\"]\n",
    "\n",
    "    #   Convert categorical data\n",
    "    for c in categorical:\n",
    "        group_by = train.groupby(by=c)[\"y\"].mean().reset_index().rename(columns={\"y\": \"{}_converted\".format(c)})\n",
    "        train = pd.merge(train, group_by, how='inner', on=c)\n",
    "\n",
    "    train = train.drop(categorical, axis=1)\n",
    "\n",
    "    #   Drop the ID column\n",
    "    X = train.drop(\"ID\", axis=1).drop(\"y\", axis=1)\n",
    "    y = train[\"y\"]\n",
    "    return X, y"
   ]
  },
  {
   "cell_type": "code",
   "execution_count": 8,
   "metadata": {},
   "outputs": [
    {
     "data": {
      "text/plain": [
       "(   X10  X11  X12  X13  X14  X15  X16  X17  X18  X19  ...  X384  X385  \\\n",
       " 0    0    0    0    1    0    0    0    0    1    0  ...     0     0   \n",
       " 1    0    0    0    0    0    0    0    0    1    0  ...     0     0   \n",
       " 2    0    0    0    0    0    0    0    1    0    0  ...     0     0   \n",
       " 3    0    0    0    0    0    0    0    0    0    0  ...     0     0   \n",
       " 4    0    0    0    0    0    0    0    0    0    0  ...     0     0   \n",
       " \n",
       "    X0_converted  X1_converted  X2_converted  X3_converted  X4_converted  \\\n",
       " 0        109.67       104.415        130.81        130.81        90.848   \n",
       " 1        109.67        84.575         88.53         88.53        90.848   \n",
       " 2         78.30        76.260         78.30         76.26        90.848   \n",
       " 3         78.30       104.415         78.30         79.32        90.848   \n",
       " 4         78.30        84.575         78.30         79.32        90.848   \n",
       " \n",
       "    X5_converted  X6_converted  X8_converted  \n",
       " 0        130.81       103.535        109.67  \n",
       " 1         88.53        84.575        109.67  \n",
       " 2         78.44       103.535         76.26  \n",
       " 3         78.02        78.020         78.02  \n",
       " 4         78.44        84.575         80.62  \n",
       " \n",
       " [5 rows x 376 columns],\n",
       " 0    130.81\n",
       " 1     88.53\n",
       " 2     76.26\n",
       " 3     78.02\n",
       " 4     80.62\n",
       " Name: y, dtype: float64)"
      ]
     },
     "execution_count": 8,
     "metadata": {},
     "output_type": "execute_result"
    }
   ],
   "source": [
    "preprocessing()"
   ]
  },
  {
   "cell_type": "code",
   "execution_count": 11,
   "metadata": {},
   "outputs": [],
   "source": [
    "param_grid = {'learning_rate': [float(v) for v in np.arange(0.01, 0.25, 0.01)],\n",
    "              'colsample_bytree': [float(v) for v in np.arange(0.8, 1.01, 0.1)],\n",
    "              'subsample': [float(v) for v in np.arange(0.5, 1.01, 0.1)],\n",
    "              'n_estimators': [int(v) for v in np.arange(100, 3000, 100)],\n",
    "              'reg_alpha': [float(v) for v in np.arange(0.01, 0.5, 0.05)],\n",
    "              'max_depth': [int(v) for v in np.arange(3, 14, 1)],\n",
    "              'gamma': [int(v) for v in np.arange(0, 10, 2)]\n",
    "              }"
   ]
  },
  {
   "cell_type": "code",
   "execution_count": 12,
   "metadata": {},
   "outputs": [],
   "source": [
    "def get_grid_iterable():\n",
    "    param_grid = {'learning_rate': [float(v) for v in np.arange(0.01, 0.25, 0.01)],\n",
    "                  'colsample_bytree': [float(v) for v in np.arange(0.8, 1.01, 0.1)],\n",
    "                  'subsample': [float(v) for v in np.arange(0.5, 1.01, 0.1)],\n",
    "                  'n_estimators': [int(v) for v in np.arange(100, 3000, 100)],\n",
    "                  'reg_alpha': [float(v) for v in np.arange(0.01, 0.5, 0.05)],\n",
    "                  'max_depth': [int(v) for v in np.arange(3, 14, 1)],\n",
    "                  'gamma': [int(v) for v in np.arange(0, 10, 2)]\n",
    "                  }\n",
    "    grid_iter = []\n",
    "    length = 1\n",
    "    for k in param_grid:\n",
    "        grid_iter.append(param_grid[k])\n",
    "        length *= len(param_grid[k])\n",
    "\n",
    "    return itertools.product(*grid_iter), list(param_grid.keys()), length-1"
   ]
  },
  {
   "cell_type": "code",
   "execution_count": 20,
   "metadata": {},
   "outputs": [],
   "source": [
    "def xgb_r2_score(preds, dtrain):\n",
    "    labels = dtrain.get_label()\n",
    "    return 'r2', r2_score(labels, preds)"
   ]
  },
  {
   "cell_type": "code",
   "execution_count": 32,
   "metadata": {},
   "outputs": [
    {
     "ename": "NameError",
     "evalue": "name 'itertools' is not defined",
     "output_type": "error",
     "traceback": [
      "\u001b[0;31m---------------------------------------------------------------------------\u001b[0m",
      "\u001b[0;31mNameError\u001b[0m                                 Traceback (most recent call last)",
      "Cell \u001b[0;32mIn [32], line 80\u001b[0m\n\u001b[1;32m     76\u001b[0m     \u001b[38;5;28mprint\u001b[39m(tests)\n\u001b[1;32m     79\u001b[0m \u001b[38;5;28;01mif\u001b[39;00m \u001b[38;5;18m__name__\u001b[39m \u001b[38;5;241m==\u001b[39m \u001b[38;5;124m\"\u001b[39m\u001b[38;5;124m__main__\u001b[39m\u001b[38;5;124m\"\u001b[39m:\n\u001b[0;32m---> 80\u001b[0m     \u001b[43mgrid_search\u001b[49m\u001b[43m(\u001b[49m\u001b[43mtimeout_seconds\u001b[49m\u001b[38;5;241;43m=\u001b[39;49m\u001b[38;5;241;43m3600\u001b[39;49m\u001b[43m,\u001b[49m\u001b[43m \u001b[49m\u001b[43mcv_splits\u001b[49m\u001b[38;5;241;43m=\u001b[39;49m\u001b[38;5;241;43m4\u001b[39;49m\u001b[43m,\u001b[49m\u001b[43m \u001b[49m\u001b[43mboosting_rounds\u001b[49m\u001b[38;5;241;43m=\u001b[39;49m\u001b[38;5;241;43m500\u001b[39;49m\u001b[43m)\u001b[49m\n",
      "Cell \u001b[0;32mIn [32], line 29\u001b[0m, in \u001b[0;36mgrid_search\u001b[0;34m(timeout_seconds, cv_splits, boosting_rounds)\u001b[0m\n\u001b[1;32m     25\u001b[0m \u001b[38;5;66;03m#   Execute until timeout occurs\u001b[39;00m\n\u001b[1;32m     26\u001b[0m \u001b[38;5;28;01mwith\u001b[39;00m timeout(timeout_seconds, exception\u001b[38;5;241m=\u001b[39m\u001b[38;5;167;01mRuntimeError\u001b[39;00m):\n\u001b[1;32m     27\u001b[0m \n\u001b[1;32m     28\u001b[0m     \u001b[38;5;66;03m#   Get the grid\u001b[39;00m\n\u001b[0;32m---> 29\u001b[0m     grid_iter, keys, length \u001b[38;5;241m=\u001b[39m \u001b[43mget_grid_iterable\u001b[49m\u001b[43m(\u001b[49m\u001b[43m)\u001b[49m\n\u001b[1;32m     30\u001b[0m     \u001b[38;5;28;01mtry\u001b[39;00m:\n\u001b[1;32m     31\u001b[0m \n\u001b[1;32m     32\u001b[0m         \u001b[38;5;66;03m#   For every element of the grid\u001b[39;00m\n\u001b[1;32m     33\u001b[0m         \u001b[38;5;28;01mfor\u001b[39;00m df_grid \u001b[38;5;129;01min\u001b[39;00m grid_iter:\n\u001b[1;32m     34\u001b[0m             \u001b[38;5;66;03m#   Prepare a list to collect the scores\u001b[39;00m\n",
      "Cell \u001b[0;32mIn [12], line 16\u001b[0m, in \u001b[0;36mget_grid_iterable\u001b[0;34m()\u001b[0m\n\u001b[1;32m     13\u001b[0m     grid_iter\u001b[38;5;241m.\u001b[39mappend(param_grid[k])\n\u001b[1;32m     14\u001b[0m     length \u001b[38;5;241m*\u001b[39m\u001b[38;5;241m=\u001b[39m \u001b[38;5;28mlen\u001b[39m(param_grid[k])\n\u001b[0;32m---> 16\u001b[0m \u001b[38;5;28;01mreturn\u001b[39;00m \u001b[43mitertools\u001b[49m\u001b[38;5;241m.\u001b[39mproduct(\u001b[38;5;241m*\u001b[39mgrid_iter), \u001b[38;5;28mlist\u001b[39m(param_grid\u001b[38;5;241m.\u001b[39mkeys()), length\u001b[38;5;241m-\u001b[39m\u001b[38;5;241m1\u001b[39m\n",
      "\u001b[0;31mNameError\u001b[0m: name 'itertools' is not defined"
     ]
    }
   ],
   "source": [
    "# Imports\n",
    "import numpy as np\n",
    "import pandas as pd\n",
    "import xgboost as xgb\n",
    "from interruptingcow import timeout\n",
    "from sklearn.model_selection import KFold  # import KFold\n",
    "from sklearn.metrics import r2_score\n",
    "import json\n",
    "# from preprocessing import preprocessing, xgb_r2_score # The preprocessing and the r2 evaluation\n",
    "# from generate_grid import get_grid_iterable # The grid\n",
    "\n",
    "\n",
    "def grid_search(timeout_seconds, cv_splits, boosting_rounds):\n",
    "    #   Read input data\n",
    "    X, y = preprocessing()\n",
    "\n",
    "    #   Create dataframe to collect the results\n",
    "    tests_columns = [\"test_nr\", \"cv_mean\", \"cv_min\", \"cv_max\", \"cv_median\", \"params\"]\n",
    "    test_id = 0\n",
    "    tests = pd.DataFrame(columns=tests_columns)\n",
    "\n",
    "    #   Cross validation number of splits\n",
    "    kf = KFold(n_splits=cv_splits)\n",
    "\n",
    "    #   Execute until timeout occurs\n",
    "    with timeout(timeout_seconds, exception=RuntimeError):\n",
    "\n",
    "        #   Get the grid\n",
    "        grid_iter, keys, length = get_grid_iterable()\n",
    "        try:\n",
    "\n",
    "            #   For every element of the grid\n",
    "            for df_grid in grid_iter:\n",
    "                #   Prepare a list to collect the scores\n",
    "                score = []\n",
    "                params = dict(zip(keys, df_grid))\n",
    "\n",
    "                #   The objective function\n",
    "                params[\"objective\"] = \"reg:squarederror\"\n",
    "\n",
    "                #   For each fold, train XGBoost and spit out the results\n",
    "                for train_index, test_index in kf.split(X.values):\n",
    "\n",
    "                    #   Get X train and X test\n",
    "                    X_train, X_test = X.iloc[train_index], X.iloc[test_index]\n",
    "\n",
    "                    #   Get y train and y test\n",
    "                    y_train, y_test = y.iloc[train_index], y.iloc[test_index]\n",
    "\n",
    "                    #   Convert into DMatrix\n",
    "                    d_train = xgb.DMatrix(X_train, label=y_train)\n",
    "                    d_valid = xgb.DMatrix(X_test, label=y_test)\n",
    "                    d_test = xgb.DMatrix(X_test)\n",
    "                    watchlist = [(d_train, 'train'), (d_valid, 'valid')]\n",
    "\n",
    "                    #   Create the classifier using the current grid params. Apply early stopping of 50 rounds\n",
    "                    clf = xgb.train(params, d_train, boosting_rounds, watchlist, early_stopping_rounds=50,\n",
    "                                    feval=xgb_r2_score, maximize=True, verbose_eval=10)\n",
    "                    y_hat = clf.predict(d_test)\n",
    "\n",
    "                    #   Append Scores on the fold kept out\n",
    "                    score.append(r2_score(y_test, y_hat))\n",
    "\n",
    "                #   Store the result into a dataframe\n",
    "                score_df = pd.DataFrame(columns=tests_columns, data=[\n",
    "                    [test_id, np.mean(score), np.min(score), np.max(score), np.median(score),\n",
    "                     json.dumps(dict(zip(keys, [str(g) for g in df_grid])))]])\n",
    "                test_id += 1\n",
    "                tests = pd.concat([tests, score_df])\n",
    "        except RuntimeError:\n",
    "            #   When timeout occurs an exception is raised and the main cycle is broken\n",
    "            pass\n",
    "\n",
    "    #   Spit out the results\n",
    "    tests.to_csv(\"grid-search.csv\", index=False)\n",
    "    print(tests)\n",
    "\n",
    "\n",
    "if __name__ == \"__main__\":\n",
    "    grid_search(timeout_seconds=3600, cv_splits=4, boosting_rounds=500)"
   ]
  },
  {
   "cell_type": "code",
   "execution_count": 37,
   "metadata": {},
   "outputs": [],
   "source": [
    "from interruptingcow import timeout\n",
    "from sklearn.model_selection import KFold\n",
    "import pymongo\n",
    "from joblibspark import register_spark\n",
    "from joblib import Parallel, delayed\n",
    "from pprint import pprint\n",
    "import random"
   ]
  },
  {
   "cell_type": "code",
   "execution_count": 38,
   "metadata": {},
   "outputs": [],
   "source": [
    "def random_search_spark(timeout_seconds, cv_splits, boosting_rounds):\n",
    "    #   Read and preprocess input data\n",
    "    X, y = preprocessing()\n",
    "\n",
    "    #   !!! First step to use Joblib Spark\n",
    "    register_spark()  # register spark backend\n",
    "\n",
    "    kf = KFold(n_splits=cv_splits)\n",
    "\n",
    "    #   Init MongoDB\n",
    "    client = pymongo.MongoClient(MONGO_IP, 27017)\n",
    "    db = client[MONGO_DATABASE]\n",
    "    collection = db[MONGO_COLLECTION]\n",
    "    collection.drop()\n",
    "\n",
    "    #   InterruptingCow will kill everything after the timeout\n",
    "    with timeout(timeout_seconds, exception=RuntimeError):\n",
    "        try:\n",
    "            #   !!! The actual Joblib magic\n",
    "            Parallel(backend=\"spark\", n_jobs=NODES)(\n",
    "                delayed(evaluate)(X, y, kf, boosting_rounds) for p in range(0, NODES))\n",
    "        except RuntimeError:\n",
    "            print(\"Runtime\")\n",
    "    db = client[MONGO_DATABASE]\n",
    "    collection = db[MONGO_COLLECTION]\n",
    "\n",
    "    cursor = collection.find({})\n",
    "    for document in cursor:\n",
    "        pprint(document)\n",
    "    client.close()\n",
    "    sc.stop()"
   ]
  },
  {
   "cell_type": "code",
   "execution_count": 39,
   "metadata": {},
   "outputs": [],
   "source": [
    "import numpy as np\n",
    "import xgboost as xgb\n",
    "from sklearn.metrics import r2_score\n",
    "import pymongo\n",
    "from joblib import Parallel, delayed\n",
    "\n",
    "import random"
   ]
  },
  {
   "cell_type": "code",
   "execution_count": 40,
   "metadata": {},
   "outputs": [],
   "source": [
    "#   \"evaluate\" is the function that is executed on the single Spark executor\n",
    "def evaluate(X, y, kf, boosting_rounds):\n",
    "    # We need an inner function because we want to use multithreading on each node\n",
    "    def evaluate_inner(X, y, kf, boosting_rounds):\n",
    "        score = []\n",
    "        # !!! Pick a random point of the serach space - Conceptually is like running NODES distinct Random Search\n",
    "        params = generate_random_configuration()\n",
    "        params[\"objective\"] = \"reg:squarederror\"\n",
    "        print(params)\n",
    "        for train_index, test_index in kf.split(X.values):\n",
    "            X_train, X_test = X.iloc[train_index], X.iloc[test_index]\n",
    "            y_train, y_test = y.iloc[train_index], y.iloc[test_index]\n",
    "            d_train = xgb.DMatrix(X_train, label=y_train)\n",
    "            d_valid = xgb.DMatrix(X_test, label=y_test)\n",
    "            d_test = xgb.DMatrix(X_test)\n",
    "            watchlist = [(d_train, 'train'), (d_valid, 'valid')]\n",
    "            clf = xgb.train(params, d_train, boosting_rounds, watchlist, early_stopping_rounds=50,\n",
    "                            feval=xgb_r2_score, maximize=True, verbose_eval=25)\n",
    "            y_hat = clf.predict(d_test)\n",
    "            score.append(r2_score(y_test, y_hat))\n",
    "\n",
    "        output_dict = {\n",
    "            'min_score': np.min(score),\n",
    "            'max_score': np.max(score),\n",
    "            'average_score': np.mean(score),\n",
    "            'median_score': np.median(score),\n",
    "            'params': params\n",
    "        }\n",
    "\n",
    "        client = pymongo.MongoClient(MONGO_IP, 27017)\n",
    "        db = client[MONGO_DATABASE]\n",
    "        collection = db[MONGO_COLLECTION]\n",
    "        collection.insert_one(output_dict)\n",
    "        client.close()\n",
    "        return score\n",
    "\n",
    "    # Same concept as seen in the Spark parallelization, but now we are using plain Joblib to parallelize\n",
    "    # the instances in the chunk. In this case we are specifying how many cores we want to use (CORES variable)\n",
    "    Parallel()(delayed(evaluate_inner)(X, y, kf, boosting_rounds) for i in range(0, 100000))\n"
   ]
  },
  {
   "cell_type": "code",
   "execution_count": 41,
   "metadata": {},
   "outputs": [
    {
     "ename": "NameError",
     "evalue": "name 'timeout_seconds' is not defined",
     "output_type": "error",
     "traceback": [
      "\u001b[0;31m---------------------------------------------------------------------------\u001b[0m",
      "\u001b[0;31mNameError\u001b[0m                                 Traceback (most recent call last)",
      "Cell \u001b[0;32mIn [41], line 1\u001b[0m\n\u001b[0;32m----> 1\u001b[0m random_search_spark(\u001b[43mtimeout_seconds\u001b[49m, cv_splits, boosting_rounds)\n",
      "\u001b[0;31mNameError\u001b[0m: name 'timeout_seconds' is not defined"
     ]
    }
   ],
   "source": [
    "random_search_spark(timeout_seconds, cv_splits, boosting_rounds)"
   ]
  },
  {
   "cell_type": "code",
   "execution_count": null,
   "metadata": {},
   "outputs": [],
   "source": []
  }
 ],
 "metadata": {
  "kernelspec": {
   "display_name": "Python 3.8.10 64-bit",
   "language": "python",
   "name": "python3"
  },
  "language_info": {
   "codemirror_mode": {
    "name": "ipython",
    "version": 3
   },
   "file_extension": ".py",
   "mimetype": "text/x-python",
   "name": "python",
   "nbconvert_exporter": "python",
   "pygments_lexer": "ipython3",
   "version": "3.8.10"
  },
  "orig_nbformat": 4,
  "vscode": {
   "interpreter": {
    "hash": "e7370f93d1d0cde622a1f8e1c04877d8463912d04d973331ad4851f04de6915a"
   }
  }
 },
 "nbformat": 4,
 "nbformat_minor": 2
}
